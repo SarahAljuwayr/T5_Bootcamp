{
  "cells": [
    {
      "cell_type": "markdown",
      "id": "8e8b6f85",
      "metadata": {
        "id": "8e8b6f85"
      },
      "source": [
        "# Auto-Correction Exercise\n",
        "\n",
        "This exercise will guide you through building an auto-correct system in Python. Follow the instructions in each step to complete the implementation."
      ]
    },
    {
      "cell_type": "markdown",
      "id": "b4ed5e99",
      "metadata": {
        "id": "b4ed5e99"
      },
      "source": [
        "## Step 1: Import Libraries\n",
        "\n",
        "Import the necessary libraries"
      ]
    },
    {
      "cell_type": "code",
      "execution_count": 1,
      "id": "c58dfc7e",
      "metadata": {
        "id": "c58dfc7e"
      },
      "outputs": [],
      "source": [
        "import os\n",
        "import re\n",
        "import numpy as np\n",
        "import pandas as pd\n",
        "from collections import Counter\n",
        "import nltk"
      ]
    },
    {
      "cell_type": "markdown",
      "id": "f849129e",
      "metadata": {
        "id": "f849129e"
      },
      "source": [
        "## Step 2: Load Data\n",
        "\n",
        "Load a trusted text corpus to build the auto-correct system."
      ]
    },
    {
      "cell_type": "code",
      "execution_count": 53,
      "id": "df8d28c4",
      "metadata": {
        "id": "df8d28c4",
        "colab": {
          "base_uri": "https://localhost:8080/",
          "height": 36
        },
        "outputId": "cc3951d5-262e-4f16-a585-a055bb3c3d37"
      },
      "outputs": [
        {
          "output_type": "execute_result",
          "data": {
            "text/plain": [
              "'Global blogger action day called\\n'"
            ],
            "application/vnd.google.colaboratory.intrinsic+json": {
              "type": "string"
            }
          },
          "metadata": {},
          "execution_count": 53
        }
      ],
      "source": [
        "with open('/content/technologie_16.txt', 'r', encoding='ISO-8859-1') as f:\n",
        "    file = f.readlines()\n",
        "\n",
        "# A small sample of the corpus\n",
        "file[0][:3000]"
      ]
    },
    {
      "cell_type": "markdown",
      "id": "ffa045c9",
      "metadata": {
        "id": "ffa045c9"
      },
      "source": [
        "## Step 3: Data Processing\n",
        "\n",
        "Tokenize the text and convert all characters to lowercase to clean the data."
      ]
    },
    {
      "cell_type": "code",
      "execution_count": 54,
      "id": "41511573",
      "metadata": {
        "id": "41511573",
        "colab": {
          "base_uri": "https://localhost:8080/"
        },
        "outputId": "894a81fa-729e-48af-c0d4-e79d10e78e9a"
      },
      "outputs": [
        {
          "output_type": "stream",
          "name": "stdout",
          "text": [
            "The first ten words in the text are: \n",
            "['global', 'blogger', 'action', 'day', 'called', 'the', 'global', 'web', 'blog', 'community']\n",
            "There are 318 unique words in the vocabulary.\n"
          ]
        }
      ],
      "source": [
        "def process_data(lines):\n",
        "    words = []\n",
        "    for line in lines:\n",
        "        line = line.strip().lower()\n",
        "        word = re.findall(r'\\w+', line)\n",
        "        words.extend(word)\n",
        "    return words\n",
        "\n",
        "word_l = process_data(file)\n",
        "vocab = set(word_l)\n",
        "print(f\"The first ten words in the text are: \\n{word_l[0:10]}\")\n",
        "print(f\"There are {len(vocab)} unique words in the vocabulary.\")"
      ]
    },
    {
      "cell_type": "markdown",
      "id": "8999b61e",
      "metadata": {
        "id": "8999b61e"
      },
      "source": [
        "\n",
        "## Step 4: Architecture Overview\n",
        "\n",
        "This auto-correct architecture has four main components:\n",
        "\n",
        "1. **Filtering Mispells**: Check if a word is in the vocabulary.\n",
        "2. **Word Suggestion Mechanism**: Suggest candidate words based on various edit operations.\n",
        "3. **Probability Distribution Mechanism**: Calculate the probability of each candidate word.\n",
        "4. **Replace Mispells**: Replace the misspelled word with the most probable suggestion.\n",
        "\n",
        "Implement each part step-by-step in the cells below.\n"
      ]
    },
    {
      "cell_type": "markdown",
      "id": "ee2c7bfc",
      "metadata": {
        "id": "ee2c7bfc"
      },
      "source": [
        "### Step 4.1: Filtering Mispells\n",
        "\n",
        "Write a function to identify words not present in the vocabulary."
      ]
    },
    {
      "cell_type": "code",
      "execution_count": 55,
      "id": "a18cb2c2",
      "metadata": {
        "id": "a18cb2c2",
        "colab": {
          "base_uri": "https://localhost:8080/"
        },
        "outputId": "a724ffd2-298f-4a91-cc25-c444ab6bfc63"
      },
      "outputs": [
        {
          "output_type": "execute_result",
          "data": {
            "text/plain": [
              "['stadying']"
            ]
          },
          "metadata": {},
          "execution_count": 55
        }
      ],
      "source": [
        "def find_wrong_word(sent, vocab):\n",
        "    wrong_words = []\n",
        "    sent = sent.strip().lower().split(\" \")\n",
        "    for word in sent:\n",
        "        if word not in vocab:\n",
        "            wrong_words.append(word)\n",
        "    return wrong_words\n",
        "\n",
        "find_wrong_word('she is stadying', vocab)"
      ]
    },
    {
      "cell_type": "markdown",
      "id": "c5ae5fef",
      "metadata": {
        "id": "c5ae5fef"
      },
      "source": [
        "### Step 4.2: Word Suggestion Mechanism\n",
        "\n",
        "Implement functions to suggest words by deleting, switching, replacing, or inserting characters."
      ]
    },
    {
      "cell_type": "code",
      "execution_count": 56,
      "id": "9647c078",
      "metadata": {
        "id": "9647c078",
        "colab": {
          "base_uri": "https://localhost:8080/"
        },
        "outputId": "81801d18-727a-4067-f4a4-c81f8f649f30"
      },
      "outputs": [
        {
          "output_type": "stream",
          "name": "stdout",
          "text": [
            "input word : bottle \n",
            "split_l = [('', 'bottle'), ('b', 'ottle'), ('bo', 'ttle'), ('bot', 'tle'), ('bott', 'le'), ('bottl', 'e')], \n",
            "delete_l = ['ottle', 'bttle', 'botle', 'botle', 'botte', 'bottl']\n"
          ]
        }
      ],
      "source": [
        "# Delete letter\n",
        "def delete_letter(word, verbose=False):\n",
        "    delete_l = []\n",
        "    split_l = [(word[:i], word[i:]) for i in range(len(word))]\n",
        "    delete_l = [s[0]+s[1][1:] for s in split_l]\n",
        "    if verbose: print(f\"input word : {word} \\nsplit_l = {split_l}, \\ndelete_l = {delete_l}\")\n",
        "    return delete_l\n",
        "\n",
        "delete_word_l = delete_letter(word=\"bottle\", verbose=True)"
      ]
    },
    {
      "cell_type": "code",
      "source": [
        "# Switch letter\n",
        "def switch_letter(word, verbose=False):\n",
        "    switch_l = []\n",
        "    split_l = [(word[:i], word[i:]) for i in range(len(word))]\n",
        "    for s in split_l:\n",
        "        if len(s[1]) > 2:\n",
        "            temp = s[0] + s[1][1] + s[1][0] + s[1][2:]\n",
        "        elif len(s[1]) == 2:\n",
        "            temp = s[0] + s[1][1] + s[1][0]\n",
        "        elif len(s[1]) == 1:\n",
        "            continue\n",
        "        switch_l.append(temp)\n",
        "    if verbose: print(f\"Input word = {word} \\nsplit_l = {split_l} \\nswitch_l = {switch_l}\")\n",
        "    return switch_l\n",
        "\n",
        "switch_word_l = switch_letter(word=\"ohld\", verbose=True)"
      ],
      "metadata": {
        "id": "7MOCW5n7uVba",
        "colab": {
          "base_uri": "https://localhost:8080/"
        },
        "outputId": "a75bbcab-4ccf-418f-d1fb-81a0cb773d22"
      },
      "id": "7MOCW5n7uVba",
      "execution_count": 57,
      "outputs": [
        {
          "output_type": "stream",
          "name": "stdout",
          "text": [
            "Input word = ohld \n",
            "split_l = [('', 'ohld'), ('o', 'hld'), ('oh', 'ld'), ('ohl', 'd')] \n",
            "switch_l = ['hold', 'olhd', 'ohdl']\n"
          ]
        }
      ]
    },
    {
      "cell_type": "code",
      "source": [
        "# Replace letter\n",
        "def replace_letter(word, verbose=False):\n",
        "    letters = 'abcdefghijklmnopqrstuvwxyz'\n",
        "    replace_l = []\n",
        "    split_l = [(word[:i], word[i:]) for i in range(len(word))]\n",
        "    for s in split_l:\n",
        "        if len(s[1]) == 1:\n",
        "            for l in letters:\n",
        "                if l != s[1][0]:\n",
        "                    replace_l.append(s[0] + l)\n",
        "        elif len(s[1]) > 1:\n",
        "            for l in letters:\n",
        "                if l != s[1][0]:\n",
        "                    replace_l.append(s[0] + l + s[1][1:])\n",
        "    replace_set = set(replace_l)\n",
        "    replace_l = sorted(list(replace_set))\n",
        "    if verbose: print(f\"Input word = {word} \\nsplit_l = {split_l} \\nreplace_l = {replace_l}\")\n",
        "    return replace_l\n",
        "\n",
        "replace_l = replace_letter(word='hold', verbose=True)"
      ],
      "metadata": {
        "id": "Mv-tOycduVL_",
        "colab": {
          "base_uri": "https://localhost:8080/"
        },
        "outputId": "f5543db5-811d-4851-8b53-5630142b4040"
      },
      "id": "Mv-tOycduVL_",
      "execution_count": 58,
      "outputs": [
        {
          "output_type": "stream",
          "name": "stdout",
          "text": [
            "Input word = hold \n",
            "split_l = [('', 'hold'), ('h', 'old'), ('ho', 'ld'), ('hol', 'd')] \n",
            "replace_l = ['aold', 'bold', 'cold', 'dold', 'eold', 'fold', 'gold', 'hald', 'hbld', 'hcld', 'hdld', 'held', 'hfld', 'hgld', 'hhld', 'hild', 'hjld', 'hkld', 'hlld', 'hmld', 'hnld', 'hoad', 'hobd', 'hocd', 'hodd', 'hoed', 'hofd', 'hogd', 'hohd', 'hoid', 'hojd', 'hokd', 'hola', 'holb', 'holc', 'hole', 'holf', 'holg', 'holh', 'holi', 'holj', 'holk', 'holl', 'holm', 'holn', 'holo', 'holp', 'holq', 'holr', 'hols', 'holt', 'holu', 'holv', 'holw', 'holx', 'holy', 'holz', 'homd', 'hond', 'hood', 'hopd', 'hoqd', 'hord', 'hosd', 'hotd', 'houd', 'hovd', 'howd', 'hoxd', 'hoyd', 'hozd', 'hpld', 'hqld', 'hrld', 'hsld', 'htld', 'huld', 'hvld', 'hwld', 'hxld', 'hyld', 'hzld', 'iold', 'jold', 'kold', 'lold', 'mold', 'nold', 'oold', 'pold', 'qold', 'rold', 'sold', 'told', 'uold', 'vold', 'wold', 'xold', 'yold', 'zold']\n"
          ]
        }
      ]
    },
    {
      "cell_type": "code",
      "source": [
        "# Insert letter\n",
        "def insert_letter(word, verbose=False):\n",
        "    letters = 'abcdefghijklmnopqrstuvwxyz'\n",
        "    insert_l = []\n",
        "    split_l = [(word[:i], word[i:]) for i in range(len(word)+1)]\n",
        "    for s in split_l:\n",
        "        for l in letters:\n",
        "            insert_l.append(s[0] + l + s[1])\n",
        "    if verbose: print(f\"Input word {word} \\nsplit_l = {split_l} \\ninsert_l = {insert_l}\")\n",
        "    return insert_l\n",
        "\n",
        "insert_l = insert_letter('on', True)\n",
        "print(f\"Number of strings output by insert_letter('on') is {len(insert_l)}\")"
      ],
      "metadata": {
        "id": "e-CAlWzkuUcq",
        "colab": {
          "base_uri": "https://localhost:8080/"
        },
        "outputId": "d1f4dc76-f127-44eb-a245-1d437499c551"
      },
      "id": "e-CAlWzkuUcq",
      "execution_count": 59,
      "outputs": [
        {
          "output_type": "stream",
          "name": "stdout",
          "text": [
            "Input word on \n",
            "split_l = [('', 'on'), ('o', 'n'), ('on', '')] \n",
            "insert_l = ['aon', 'bon', 'con', 'don', 'eon', 'fon', 'gon', 'hon', 'ion', 'jon', 'kon', 'lon', 'mon', 'non', 'oon', 'pon', 'qon', 'ron', 'son', 'ton', 'uon', 'von', 'won', 'xon', 'yon', 'zon', 'oan', 'obn', 'ocn', 'odn', 'oen', 'ofn', 'ogn', 'ohn', 'oin', 'ojn', 'okn', 'oln', 'omn', 'onn', 'oon', 'opn', 'oqn', 'orn', 'osn', 'otn', 'oun', 'ovn', 'own', 'oxn', 'oyn', 'ozn', 'ona', 'onb', 'onc', 'ond', 'one', 'onf', 'ong', 'onh', 'oni', 'onj', 'onk', 'onl', 'onm', 'onn', 'ono', 'onp', 'onq', 'onr', 'ons', 'ont', 'onu', 'onv', 'onw', 'onx', 'ony', 'onz']\n",
            "Number of strings output by insert_letter('on') is 78\n"
          ]
        }
      ]
    },
    {
      "cell_type": "markdown",
      "id": "5c6197fc",
      "metadata": {
        "id": "5c6197fc"
      },
      "source": [
        "**Combining Functions for Word Suggestions**\n",
        "\n",
        "Combine the functions to edit one or two characters in a word."
      ]
    },
    {
      "cell_type": "code",
      "execution_count": 60,
      "id": "e9229d4d",
      "metadata": {
        "id": "e9229d4d"
      },
      "outputs": [],
      "source": [
        "# Edit one letter\n",
        "def edit_one_letter(word, allow_switches=True):\n",
        "    edit_one_set = set()\n",
        "    insert_l = insert_letter(word)\n",
        "    delete_l = delete_letter(word)\n",
        "    replace_l = replace_letter(word)\n",
        "    switch_l = switch_letter(word)\n",
        "    if allow_switches:\n",
        "        ans = insert_l + delete_l + replace_l + switch_l\n",
        "    else:\n",
        "        ans = insert_l + delete_l + replace_l\n",
        "    edit_one_set = set(ans)\n",
        "    return edit_one_set"
      ]
    },
    {
      "cell_type": "code",
      "source": [
        "tmp_word = \"on\"\n",
        "tmp_edit_one_set = edit_one_letter(tmp_word)\n",
        "tmp_edit_one_l = sorted(list(tmp_edit_one_set))\n",
        "\n",
        "print(f\"input word : {tmp_word} \\nedit_one_l \\n{tmp_edit_one_l}\\n\")\n",
        "print(f\"Number of outputs from edit_one_letter('on') is {len(edit_one_letter('on'))}\")"
      ],
      "metadata": {
        "colab": {
          "base_uri": "https://localhost:8080/"
        },
        "id": "5Q3QoDYthOsG",
        "outputId": "9cf74a68-2485-4aca-9979-0a80cc6df24f"
      },
      "id": "5Q3QoDYthOsG",
      "execution_count": 61,
      "outputs": [
        {
          "output_type": "stream",
          "name": "stdout",
          "text": [
            "input word : on \n",
            "edit_one_l \n",
            "['an', 'aon', 'bn', 'bon', 'cn', 'con', 'dn', 'don', 'en', 'eon', 'fn', 'fon', 'gn', 'gon', 'hn', 'hon', 'in', 'ion', 'jn', 'jon', 'kn', 'kon', 'ln', 'lon', 'mn', 'mon', 'n', 'nn', 'no', 'non', 'o', 'oa', 'oan', 'ob', 'obn', 'oc', 'ocn', 'od', 'odn', 'oe', 'oen', 'of', 'ofn', 'og', 'ogn', 'oh', 'ohn', 'oi', 'oin', 'oj', 'ojn', 'ok', 'okn', 'ol', 'oln', 'om', 'omn', 'ona', 'onb', 'onc', 'ond', 'one', 'onf', 'ong', 'onh', 'oni', 'onj', 'onk', 'onl', 'onm', 'onn', 'ono', 'onp', 'onq', 'onr', 'ons', 'ont', 'onu', 'onv', 'onw', 'onx', 'ony', 'onz', 'oo', 'oon', 'op', 'opn', 'oq', 'oqn', 'or', 'orn', 'os', 'osn', 'ot', 'otn', 'ou', 'oun', 'ov', 'ovn', 'ow', 'own', 'ox', 'oxn', 'oy', 'oyn', 'oz', 'ozn', 'pn', 'pon', 'qn', 'qon', 'rn', 'ron', 'sn', 'son', 'tn', 'ton', 'un', 'uon', 'vn', 'von', 'wn', 'won', 'xn', 'xon', 'yn', 'yon', 'zn', 'zon']\n",
            "\n",
            "Number of outputs from edit_one_letter('on') is 129\n"
          ]
        }
      ]
    },
    {
      "cell_type": "code",
      "source": [
        "# Edit two letters\n",
        "def edit_two_letters(word, allow_switches = True):\n",
        "    edit_two_set = set()\n",
        "    one_edit = edit_one_letter(word)\n",
        "    ans = []\n",
        "    for w in one_edit:\n",
        "        ans.append(w)\n",
        "        ans.extend(edit_one_letter(w))\n",
        "    edit_two_set = set(ans)\n",
        "    return edit_two_set"
      ],
      "metadata": {
        "id": "UCSWEhMyu3ys"
      },
      "id": "UCSWEhMyu3ys",
      "execution_count": 62,
      "outputs": []
    },
    {
      "cell_type": "code",
      "source": [
        "tmp_edit_two_set = edit_two_letters(\"e\")\n",
        "tmp_edit_two_l = sorted(list(tmp_edit_two_set))\n",
        "print(f\"Number of strings with edit distance of two: {len(tmp_edit_two_l)}\")\n",
        "print(f\"First 10 strings {tmp_edit_two_l[:10]}\")\n",
        "print(f\"Last 10 strings {tmp_edit_two_l[-10:]}\")\n",
        "print(f\"The data type of the returned object should be e set {type(tmp_edit_two_set)}\")\n",
        "print(f\"Number of strings that are 2 edit distances from 'on' is {len(edit_two_letters('on'))}\")"
      ],
      "metadata": {
        "colab": {
          "base_uri": "https://localhost:8080/"
        },
        "id": "48MihKmIhivr",
        "outputId": "108396fa-1df8-4305-de9f-fee4ed790052"
      },
      "id": "48MihKmIhivr",
      "execution_count": 63,
      "outputs": [
        {
          "output_type": "stream",
          "name": "stdout",
          "text": [
            "Number of strings with edit distance of two: 2654\n",
            "First 10 strings ['', 'a', 'aa', 'aae', 'ab', 'abe', 'ac', 'ace', 'ad', 'ade']\n",
            "Last 10 strings ['zv', 'zve', 'zw', 'zwe', 'zx', 'zxe', 'zy', 'zye', 'zz', 'zze']\n",
            "The data type of the returned object should be e set <class 'set'>\n",
            "Number of strings that are 2 edit distances from 'on' is 7154\n"
          ]
        }
      ]
    },
    {
      "cell_type": "markdown",
      "id": "1f9a5ac0",
      "metadata": {
        "id": "1f9a5ac0"
      },
      "source": [
        "### Step 4.3: Probability Distribution\n",
        "\n",
        "Calculate the frequency of each word in the corpus and compute the probability distribution."
      ]
    },
    {
      "cell_type": "code",
      "execution_count": 64,
      "id": "5462dd60",
      "metadata": {
        "id": "5462dd60",
        "colab": {
          "base_uri": "https://localhost:8080/"
        },
        "outputId": "110aa47a-6ba4-4603-f693-a0a4e4ae854d"
      },
      "outputs": [
        {
          "output_type": "stream",
          "name": "stdout",
          "text": [
            "There are 318 key values pairs\n",
            "The count for the word 'organisation' is 2\n"
          ]
        }
      ],
      "source": [
        "def get_count(word_l):\n",
        "    word_count_dict = Counter(word_l)\n",
        "    return word_count_dict\n",
        "\n",
        "word_count_dict = get_count(word_l)\n",
        "print(f\"There are {len(word_count_dict)} key values pairs\")\n",
        "print(f\"The count for the word 'organisation' is {word_count_dict.get('organisation',0)}\")"
      ]
    },
    {
      "cell_type": "code",
      "source": [
        "def get_probs(word_count_dict):\n",
        "    probs = {}\n",
        "    total = sum(word_count_dict.values())\n",
        "    for word in word_count_dict.keys():\n",
        "        probs[word] = word_count_dict[word] / total\n",
        "    return probs\n",
        "\n",
        "probs = get_probs(word_count_dict)\n",
        "print(f\"Length of probs is {len(probs)}\")\n",
        "print(f\"P('blogger') is {probs['blogger']:.4f}\")"
      ],
      "metadata": {
        "id": "S2xKryxPvCLu",
        "colab": {
          "base_uri": "https://localhost:8080/"
        },
        "outputId": "8529350c-2257-469b-b001-81fb091c2b5b"
      },
      "id": "S2xKryxPvCLu",
      "execution_count": 65,
      "outputs": [
        {
          "output_type": "stream",
          "name": "stdout",
          "text": [
            "Length of probs is 318\n",
            "P('blogger') is 0.0072\n"
          ]
        }
      ]
    },
    {
      "cell_type": "code",
      "source": [
        "# Display probability distribution\n",
        "prob_df = pd.DataFrame({'word': probs.keys(), 'probability': probs.values()}).sort_values(by='probability', ascending=False)\n",
        "prob_df.sample(5)\n",
        "\n",
        "prob_df.head().plot.bar(x='word', y='probability')"
      ],
      "metadata": {
        "id": "1R6ZGPmYvClz",
        "colab": {
          "base_uri": "https://localhost:8080/",
          "height": 480
        },
        "outputId": "6b7be47a-d145-48df-a0b7-559b1a2207df"
      },
      "id": "1R6ZGPmYvClz",
      "execution_count": 66,
      "outputs": [
        {
          "output_type": "execute_result",
          "data": {
            "text/plain": [
              "<Axes: xlabel='word'>"
            ]
          },
          "metadata": {},
          "execution_count": 66
        },
        {
          "output_type": "display_data",
          "data": {
            "text/plain": [
              "<Figure size 640x480 with 1 Axes>"
            ],
            "image/png": "[encoded data removed]"
          },
          "metadata": {}
        }
      ]
    },
    {
      "cell_type": "markdown",
      "id": "8aebeba6",
      "metadata": {
        "id": "8aebeba6"
      },
      "source": [
        "### Step 4.4: Replace Misspells with Correction\n",
        "\n",
        "Write a function to replace misspelled words with the most probable corrections."
      ]
    },
    {
      "cell_type": "code",
      "execution_count": 67,
      "id": "b8a61c93",
      "metadata": {
        "id": "b8a61c93",
        "colab": {
          "base_uri": "https://localhost:8080/",
          "height": 36
        },
        "outputId": "d4739256-93fc-4b56-ad74-9519dfa012a8"
      },
      "outputs": [
        {
          "output_type": "execute_result",
          "data": {
            "text/plain": [
              "'the'"
            ],
            "application/vnd.google.colaboratory.intrinsic+json": {
              "type": "string"
            }
          },
          "metadata": {},
          "execution_count": 67
        }
      ],
      "source": [
        "def get_corrections(word, probs, vocab, n=2, verbose=False):\n",
        "    suggestions = []\n",
        "    n_best = []\n",
        "\n",
        "    if word in probs.keys():\n",
        "        suggestions.append(word)\n",
        "    for w in edit_one_letter(word):\n",
        "        if len(suggestions) == n:\n",
        "            break\n",
        "        if w in probs.keys():\n",
        "            suggestions.append(w)\n",
        "    for w in edit_two_letters(word):\n",
        "        if len(suggestions) == n:\n",
        "            break\n",
        "        if w in probs.keys():\n",
        "            suggestions.append(w)\n",
        "\n",
        "    best_words = sorted({s: probs[s] for s in suggestions}.items(), key=lambda x: x[1], reverse=True)\n",
        "    n_best = best_words\n",
        "\n",
        "    if verbose: print(\"entered word = \", word, \"\\nsuggestions = \", suggestions)\n",
        "    return n_best\n",
        "\n",
        "def get_correct_word(word, vocab, probs, n):\n",
        "    corrections = get_corrections(word, probs, vocab, n, verbose=False)\n",
        "    if len(corrections) == 0:\n",
        "        return word\n",
        "\n",
        "    final_word = corrections[0][0]\n",
        "    final_prob = corrections[0][1]\n",
        "    for i, word_prob in enumerate(corrections):\n",
        "        if word_prob[1] > final_prob:\n",
        "            final_word = word_prob[0]\n",
        "            final_prob = word_prob[1]\n",
        "    return final_word\n",
        "\n",
        "get_correct_word('thee', vocab, probs, 100)"
      ]
    },
    {
      "cell_type": "markdown",
      "id": "baff1c00",
      "metadata": {
        "id": "baff1c00"
      },
      "source": [
        "### Step 5: Final Auto-Correction Function\n",
        "\n",
        "Combine all parts into a final function that corrects sentences."
      ]
    },
    {
      "cell_type": "code",
      "execution_count": 68,
      "id": "974eb839",
      "metadata": {
        "id": "974eb839"
      },
      "outputs": [],
      "source": [
        "def autocorrect(sentence, vocab, probs):\n",
        "    print(\"Input sentence : \", sentence)\n",
        "    wrong_words = find_wrong_word(sentence, vocab)\n",
        "    print(\"Wrong words : \", wrong_words)\n",
        "    correct_words = []\n",
        "    for word in sentence.strip().lower().split(\" \"):\n",
        "        if word in wrong_words:\n",
        "            correct_word = get_correct_word(word, vocab, probs, 15)\n",
        "            word = correct_word\n",
        "        correct_words.append(word)\n",
        "    print(\"Output Sentence : \", \" \".join(correct_words).capitalize())"
      ]
    },
    {
      "cell_type": "markdown",
      "metadata": {
        "id": "O01DcmYtvOlh"
      },
      "source": [
        "### Step 6: Demo\n",
        "\n",
        "Apply your work to a sentence"
      ],
      "id": "O01DcmYtvOlh"
    },
    {
      "cell_type": "code",
      "source": [
        "autocorrect(\"Th group has a listt of aactions\", vocab, probs)"
      ],
      "metadata": {
        "id": "juIS0GFovX02",
        "colab": {
          "base_uri": "https://localhost:8080/"
        },
        "outputId": "71a067e6-4e64-46e1-9787-ec317cf5de66"
      },
      "id": "juIS0GFovX02",
      "execution_count": 69,
      "outputs": [
        {
          "output_type": "stream",
          "name": "stdout",
          "text": [
            "Input sentence :  Th group has a listt of aactions\n",
            "Wrong words :  ['th', 'listt', 'aactions']\n",
            "Output Sentence :  The group has a list of action\n"
          ]
        }
      ]
    },
    {
      "cell_type": "code",
      "source": [
        "autocorrect(\"It is jusst sutch a new way of doinng buasiness\", vocab, probs)"
      ],
      "metadata": {
        "colab": {
          "base_uri": "https://localhost:8080/"
        },
        "id": "U5N9BG6Qi6d8",
        "outputId": "1415b6cb-318b-4d21-e8c2-35b99975348a"
      },
      "id": "U5N9BG6Qi6d8",
      "execution_count": 79,
      "outputs": [
        {
          "output_type": "stream",
          "name": "stdout",
          "text": [
            "Input sentence :  It is jusst sutch a new way of doinng buasiness\n",
            "Wrong words :  ['jusst', 'sutch', 'doinng', 'buasiness']\n",
            "Output Sentence :  It is just such a new way of doing business\n"
          ]
        }
      ]
    }
  ],
  "metadata": {
    "colab": {
      "provenance": []
    },
    "language_info": {
      "name": "python"
    },
    "kernelspec": {
      "name": "python3",
      "display_name": "Python 3"
    }
  },
  "nbformat": 4,
  "nbformat_minor": 5
}