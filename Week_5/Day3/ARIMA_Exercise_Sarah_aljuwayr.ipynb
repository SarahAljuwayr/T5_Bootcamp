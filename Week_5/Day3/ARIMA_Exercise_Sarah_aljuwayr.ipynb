{
  "nbformat": 4,
  "nbformat_minor": 0,
  "metadata": {
    "colab": {
      "provenance": []
    },
    "kernelspec": {
      "name": "python3",
      "display_name": "Python 3"
    },
    "language_info": {
      "name": "python"
    }
  },
  "cells": [
    {
      "cell_type": "markdown",
      "source": [
        "#**Parameter Analysis for the ARIMA model**"
      ],
      "metadata": {
        "id": "JaxjdikNnjkf"
      }
    },
    {
      "cell_type": "markdown",
      "source": [
        "## Import the library\n"
      ],
      "metadata": {
        "id": "Bcg9HjA6npWd"
      }
    },
    {
      "cell_type": "code",
      "execution_count": 2,
      "metadata": {
        "id": "5c6uJIkGncuk"
      },
      "outputs": [],
      "source": [
        "# To hide the output\n",
        "%%capture\n",
        "# To install the library\n",
        "!pip install pmdarima\n",
        "\n",
        "# Ignore harmless warnings\n",
        "import warnings\n",
        "warnings.filterwarnings(\"ignore\")"
      ]
    },
    {
      "cell_type": "code",
      "source": [
        "# Import the library\n",
        "from pmdarima import auto_arima\n",
        "from pmdarima.arima import ADFTest\n",
        "import pandas as pd\n",
        "from statsmodels.tsa.statespace.sarimax import SARIMAX\n",
        "from sklearn.metrics import mean_squared_error\n",
        "from statsmodels.tools.eval_measures import rmse"
      ],
      "metadata": {
        "id": "SV2d1EEL3LNg"
      },
      "execution_count": 3,
      "outputs": []
    },
    {
      "cell_type": "markdown",
      "source": [
        "## Read dataset"
      ],
      "metadata": {
        "id": "d4pFa8pkoErL"
      }
    },
    {
      "cell_type": "code",
      "source": [
        "df = pd.read_csv('/content/traffic.csv')"
      ],
      "metadata": {
        "id": "7nA5jLRHoFCP"
      },
      "execution_count": 4,
      "outputs": []
    },
    {
      "cell_type": "code",
      "source": [
        "df.info()"
      ],
      "metadata": {
        "colab": {
          "base_uri": "https://localhost:8080/"
        },
        "id": "JRdmu4-y3Umh",
        "outputId": "777879d1-7104-4f85-947f-3e2b31869743"
      },
      "execution_count": 5,
      "outputs": [
        {
          "output_type": "stream",
          "name": "stdout",
          "text": [
            "<class 'pandas.core.frame.DataFrame'>\n",
            "RangeIndex: 48120 entries, 0 to 48119\n",
            "Data columns (total 4 columns):\n",
            " #   Column    Non-Null Count  Dtype \n",
            "---  ------    --------------  ----- \n",
            " 0   DateTime  48120 non-null  object\n",
            " 1   Junction  48120 non-null  int64 \n",
            " 2   Vehicles  48120 non-null  int64 \n",
            " 3   ID        48120 non-null  int64 \n",
            "dtypes: int64(3), object(1)\n",
            "memory usage: 1.5+ MB\n"
          ]
        }
      ]
    },
    {
      "cell_type": "markdown",
      "source": [
        "## Test for Stationarity\n"
      ],
      "metadata": {
        "id": "nygeuflW3crX"
      }
    },
    {
      "cell_type": "code",
      "source": [
        "adf_test = ADFTest(alpha = 0.05)\n",
        "adf_test.should_diff(df['Vehicles'])"
      ],
      "metadata": {
        "colab": {
          "base_uri": "https://localhost:8080/"
        },
        "id": "VSkSjeVO3Y3K",
        "outputId": "97435916-0b29-4695-983e-d02c2e362dfc"
      },
      "execution_count": 7,
      "outputs": [
        {
          "output_type": "execute_result",
          "data": {
            "text/plain": [
              "(0.01, False)"
            ]
          },
          "metadata": {},
          "execution_count": 7
        }
      ]
    },
    {
      "cell_type": "markdown",
      "source": [
        "### Split the data"
      ],
      "metadata": {
        "id": "dQx8kd1J50Lp"
      }
    },
    {
      "cell_type": "code",
      "source": [
        "df_part = df.iloc[:500]\n",
        "df_part.head()"
      ],
      "metadata": {
        "colab": {
          "base_uri": "https://localhost:8080/",
          "height": 206
        },
        "id": "l4wYe21Z5zKx",
        "outputId": "308fba14-fe24-4e32-d5a3-020ec7810b27"
      },
      "execution_count": 10,
      "outputs": [
        {
          "output_type": "execute_result",
          "data": {
            "text/plain": [
              "              DateTime  Junction  Vehicles           ID\n",
              "0  2015-11-01 00:00:00         1        15  20151101001\n",
              "1  2015-11-01 01:00:00         1        13  20151101011\n",
              "2  2015-11-01 02:00:00         1        10  20151101021\n",
              "3  2015-11-01 03:00:00         1         7  20151101031\n",
              "4  2015-11-01 04:00:00         1         9  20151101041"
            ],
            "text/html": [
              "\n",
              "  <div id=\"df-3a299cd6-e329-4493-8aaf-00fe39e26233\" class=\"colab-df-container\">\n",
              "    <div>\n",
              "<style scoped>\n",
              "    .dataframe tbody tr th:only-of-type {\n",
              "        vertical-align: middle;\n",
              "    }\n",
              "\n",
              "    .dataframe tbody tr th {\n",
              "        vertical-align: top;\n",
              "    }\n",
              "\n",
              "    .dataframe thead th {\n",
              "        text-align: right;\n",
              "    }\n",
              "</style>\n",
              "<table border=\"1\" class=\"dataframe\">\n",
              "  <thead>\n",
              "    <tr style=\"text-align: right;\">\n",
              "      <th></th>\n",
              "      <th>DateTime</th>\n",
              "      <th>Junction</th>\n",
              "      <th>Vehicles</th>\n",
              "      <th>ID</th>\n",
              "    </tr>\n",
              "  </thead>\n",
              "  <tbody>\n",
              "    <tr>\n",
              "      <th>0</th>\n",
              "      <td>2015-11-01 00:00:00</td>\n",
              "      <td>1</td>\n",
              "      <td>15</td>\n",
              "      <td>20151101001</td>\n",
              "    </tr>\n",
              "    <tr>\n",
              "      <th>1</th>\n",
              "      <td>2015-11-01 01:00:00</td>\n",
              "      <td>1</td>\n",
              "      <td>13</td>\n",
              "      <td>20151101011</td>\n",
              "    </tr>\n",
              "    <tr>\n",
              "      <th>2</th>\n",
              "      <td>2015-11-01 02:00:00</td>\n",
              "      <td>1</td>\n",
              "      <td>10</td>\n",
              "      <td>20151101021</td>\n",
              "    </tr>\n",
              "    <tr>\n",
              "      <th>3</th>\n",
              "      <td>2015-11-01 03:00:00</td>\n",
              "      <td>1</td>\n",
              "      <td>7</td>\n",
              "      <td>20151101031</td>\n",
              "    </tr>\n",
              "    <tr>\n",
              "      <th>4</th>\n",
              "      <td>2015-11-01 04:00:00</td>\n",
              "      <td>1</td>\n",
              "      <td>9</td>\n",
              "      <td>20151101041</td>\n",
              "    </tr>\n",
              "  </tbody>\n",
              "</table>\n",
              "</div>\n",
              "    <div class=\"colab-df-buttons\">\n",
              "\n",
              "  <div class=\"colab-df-container\">\n",
              "    <button class=\"colab-df-convert\" onclick=\"convertToInteractive('df-3a299cd6-e329-4493-8aaf-00fe39e26233')\"\n",
              "            title=\"Convert this dataframe to an interactive table.\"\n",
              "            style=\"display:none;\">\n",
              "\n",
              "  <svg xmlns=\"http://www.w3.org/2000/svg\" height=\"24px\" viewBox=\"0 -960 960 960\">\n",
              "    <path d=\"M120-120v-720h720v720H120Zm60-500h600v-160H180v160Zm220 220h160v-160H400v160Zm0 220h160v-160H400v160ZM180-400h160v-160H180v160Zm440 0h160v-160H620v160ZM180-180h160v-160H180v160Zm440 0h160v-160H620v160Z\"/>\n",
              "  </svg>\n",
              "    </button>\n",
              "\n",
              "  <style>\n",
              "    .colab-df-container {\n",
              "      display:flex;\n",
              "      gap: 12px;\n",
              "    }\n",
              "\n",
              "    .colab-df-convert {\n",
              "      background-color: #E8F0FE;\n",
              "      border: none;\n",
              "      border-radius: 50%;\n",
              "      cursor: pointer;\n",
              "      display: none;\n",
              "      fill: #1967D2;\n",
              "      height: 32px;\n",
              "      padding: 0 0 0 0;\n",
              "      width: 32px;\n",
              "    }\n",
              "\n",
              "    .colab-df-convert:hover {\n",
              "      background-color: #E2EBFA;\n",
              "      box-shadow: 0px 1px 2px rgba(60, 64, 67, 0.3), 0px 1px 3px 1px rgba(60, 64, 67, 0.15);\n",
              "      fill: #174EA6;\n",
              "    }\n",
              "\n",
              "    .colab-df-buttons div {\n",
              "      margin-bottom: 4px;\n",
              "    }\n",
              "\n",
              "    [theme=dark] .colab-df-convert {\n",
              "      background-color: #3B4455;\n",
              "      fill: #D2E3FC;\n",
              "    }\n",
              "\n",
              "    [theme=dark] .colab-df-convert:hover {\n",
              "      background-color: #434B5C;\n",
              "      box-shadow: 0px 1px 3px 1px rgba(0, 0, 0, 0.15);\n",
              "      filter: drop-shadow(0px 1px 2px rgba(0, 0, 0, 0.3));\n",
              "      fill: #FFFFFF;\n",
              "    }\n",
              "  </style>\n",
              "\n",
              "    <script>\n",
              "      const buttonEl =\n",
              "        document.querySelector('#df-3a299cd6-e329-4493-8aaf-00fe39e26233 button.colab-df-convert');\n",
              "      buttonEl.style.display =\n",
              "        google.colab.kernel.accessAllowed ? 'block' : 'none';\n",
              "\n",
              "      async function convertToInteractive(key) {\n",
              "        const element = document.querySelector('#df-3a299cd6-e329-4493-8aaf-00fe39e26233');\n",
              "        const dataTable =\n",
              "          await google.colab.kernel.invokeFunction('convertToInteractive',\n",
              "                                                    [key], {});\n",
              "        if (!dataTable) return;\n",
              "\n",
              "        const docLinkHtml = 'Like what you see? Visit the ' +\n",
              "          '<a target=\"_blank\" href=https://colab.research.google.com/notebooks/data_table.ipynb>data table notebook</a>'\n",
              "          + ' to learn more about interactive tables.';\n",
              "        element.innerHTML = '';\n",
              "        dataTable['output_type'] = 'display_data';\n",
              "        await google.colab.output.renderOutput(dataTable, element);\n",
              "        const docLink = document.createElement('div');\n",
              "        docLink.innerHTML = docLinkHtml;\n",
              "        element.appendChild(docLink);\n",
              "      }\n",
              "    </script>\n",
              "  </div>\n",
              "\n",
              "\n",
              "<div id=\"df-12fbe6b8-93a5-4533-a8ad-5447da47f036\">\n",
              "  <button class=\"colab-df-quickchart\" onclick=\"quickchart('df-12fbe6b8-93a5-4533-a8ad-5447da47f036')\"\n",
              "            title=\"Suggest charts\"\n",
              "            style=\"display:none;\">\n",
              "\n",
              "<svg xmlns=\"http://www.w3.org/2000/svg\" height=\"24px\"viewBox=\"0 0 24 24\"\n",
              "     width=\"24px\">\n",
              "    <g>\n",
              "        <path d=\"M19 3H5c-1.1 0-2 .9-2 2v14c0 1.1.9 2 2 2h14c1.1 0 2-.9 2-2V5c0-1.1-.9-2-2-2zM9 17H7v-7h2v7zm4 0h-2V7h2v10zm4 0h-2v-4h2v4z\"/>\n",
              "    </g>\n",
              "</svg>\n",
              "  </button>\n",
              "\n",
              "<style>\n",
              "  .colab-df-quickchart {\n",
              "      --bg-color: #E8F0FE;\n",
              "      --fill-color: #1967D2;\n",
              "      --hover-bg-color: #E2EBFA;\n",
              "      --hover-fill-color: #174EA6;\n",
              "      --disabled-fill-color: #AAA;\n",
              "      --disabled-bg-color: #DDD;\n",
              "  }\n",
              "\n",
              "  [theme=dark] .colab-df-quickchart {\n",
              "      --bg-color: #3B4455;\n",
              "      --fill-color: #D2E3FC;\n",
              "      --hover-bg-color: #434B5C;\n",
              "      --hover-fill-color: #FFFFFF;\n",
              "      --disabled-bg-color: #3B4455;\n",
              "      --disabled-fill-color: #666;\n",
              "  }\n",
              "\n",
              "  .colab-df-quickchart {\n",
              "    background-color: var(--bg-color);\n",
              "    border: none;\n",
              "    border-radius: 50%;\n",
              "    cursor: pointer;\n",
              "    display: none;\n",
              "    fill: var(--fill-color);\n",
              "    height: 32px;\n",
              "    padding: 0;\n",
              "    width: 32px;\n",
              "  }\n",
              "\n",
              "  .colab-df-quickchart:hover {\n",
              "    background-color: var(--hover-bg-color);\n",
              "    box-shadow: 0 1px 2px rgba(60, 64, 67, 0.3), 0 1px 3px 1px rgba(60, 64, 67, 0.15);\n",
              "    fill: var(--button-hover-fill-color);\n",
              "  }\n",
              "\n",
              "  .colab-df-quickchart-complete:disabled,\n",
              "  .colab-df-quickchart-complete:disabled:hover {\n",
              "    background-color: var(--disabled-bg-color);\n",
              "    fill: var(--disabled-fill-color);\n",
              "    box-shadow: none;\n",
              "  }\n",
              "\n",
              "  .colab-df-spinner {\n",
              "    border: 2px solid var(--fill-color);\n",
              "    border-color: transparent;\n",
              "    border-bottom-color: var(--fill-color);\n",
              "    animation:\n",
              "      spin 1s steps(1) infinite;\n",
              "  }\n",
              "\n",
              "  @keyframes spin {\n",
              "    0% {\n",
              "      border-color: transparent;\n",
              "      border-bottom-color: var(--fill-color);\n",
              "      border-left-color: var(--fill-color);\n",
              "    }\n",
              "    20% {\n",
              "      border-color: transparent;\n",
              "      border-left-color: var(--fill-color);\n",
              "      border-top-color: var(--fill-color);\n",
              "    }\n",
              "    30% {\n",
              "      border-color: transparent;\n",
              "      border-left-color: var(--fill-color);\n",
              "      border-top-color: var(--fill-color);\n",
              "      border-right-color: var(--fill-color);\n",
              "    }\n",
              "    40% {\n",
              "      border-color: transparent;\n",
              "      border-right-color: var(--fill-color);\n",
              "      border-top-color: var(--fill-color);\n",
              "    }\n",
              "    60% {\n",
              "      border-color: transparent;\n",
              "      border-right-color: var(--fill-color);\n",
              "    }\n",
              "    80% {\n",
              "      border-color: transparent;\n",
              "      border-right-color: var(--fill-color);\n",
              "      border-bottom-color: var(--fill-color);\n",
              "    }\n",
              "    90% {\n",
              "      border-color: transparent;\n",
              "      border-bottom-color: var(--fill-color);\n",
              "    }\n",
              "  }\n",
              "</style>\n",
              "\n",
              "  <script>\n",
              "    async function quickchart(key) {\n",
              "      const quickchartButtonEl =\n",
              "        document.querySelector('#' + key + ' button');\n",
              "      quickchartButtonEl.disabled = true;  // To prevent multiple clicks.\n",
              "      quickchartButtonEl.classList.add('colab-df-spinner');\n",
              "      try {\n",
              "        const charts = await google.colab.kernel.invokeFunction(\n",
              "            'suggestCharts', [key], {});\n",
              "      } catch (error) {\n",
              "        console.error('Error during call to suggestCharts:', error);\n",
              "      }\n",
              "      quickchartButtonEl.classList.remove('colab-df-spinner');\n",
              "      quickchartButtonEl.classList.add('colab-df-quickchart-complete');\n",
              "    }\n",
              "    (() => {\n",
              "      let quickchartButtonEl =\n",
              "        document.querySelector('#df-12fbe6b8-93a5-4533-a8ad-5447da47f036 button');\n",
              "      quickchartButtonEl.style.display =\n",
              "        google.colab.kernel.accessAllowed ? 'block' : 'none';\n",
              "    })();\n",
              "  </script>\n",
              "</div>\n",
              "\n",
              "    </div>\n",
              "  </div>\n"
            ],
            "application/vnd.google.colaboratory.intrinsic+json": {
              "type": "dataframe",
              "variable_name": "df_part",
              "summary": "{\n  \"name\": \"df_part\",\n  \"rows\": 500,\n  \"fields\": [\n    {\n      \"column\": \"DateTime\",\n      \"properties\": {\n        \"dtype\": \"object\",\n        \"num_unique_values\": 500,\n        \"samples\": [\n          \"2015-11-16 01:00:00\",\n          \"2015-11-04 01:00:00\",\n          \"2015-11-16 14:00:00\"\n        ],\n        \"semantic_type\": \"\",\n        \"description\": \"\"\n      }\n    },\n    {\n      \"column\": \"Junction\",\n      \"properties\": {\n        \"dtype\": \"number\",\n        \"std\": 0,\n        \"min\": 1,\n        \"max\": 1,\n        \"num_unique_values\": 1,\n        \"samples\": [\n          1\n        ],\n        \"semantic_type\": \"\",\n        \"description\": \"\"\n      }\n    },\n    {\n      \"column\": \"Vehicles\",\n      \"properties\": {\n        \"dtype\": \"number\",\n        \"std\": 7,\n        \"min\": 6,\n        \"max\": 48,\n        \"num_unique_values\": 40,\n        \"samples\": [\n          34\n        ],\n        \"semantic_type\": \"\",\n        \"description\": \"\"\n      }\n    },\n    {\n      \"column\": \"ID\",\n      \"properties\": {\n        \"dtype\": \"number\",\n        \"std\": 6017,\n        \"min\": 20151101001,\n        \"max\": 20151121191,\n        \"num_unique_values\": 500,\n        \"samples\": [\n          20151116011\n        ],\n        \"semantic_type\": \"\",\n        \"description\": \"\"\n      }\n    }\n  ]\n}"
            }
          },
          "metadata": {},
          "execution_count": 10
        }
      ]
    },
    {
      "cell_type": "code",
      "source": [
        "df_part.tail()"
      ],
      "metadata": {
        "colab": {
          "base_uri": "https://localhost:8080/",
          "height": 206
        },
        "id": "rViO-HvsLNy-",
        "outputId": "eb93efd5-d33b-4dd8-9088-bdd023db8a88"
      },
      "execution_count": 17,
      "outputs": [
        {
          "output_type": "execute_result",
          "data": {
            "text/plain": [
              "                DateTime  Junction  Vehicles           ID\n",
              "495  2015-11-21 15:00:00         1        18  20151121151\n",
              "496  2015-11-21 16:00:00         1        17  20151121161\n",
              "497  2015-11-21 17:00:00         1        17  20151121171\n",
              "498  2015-11-21 18:00:00         1        19  20151121181\n",
              "499  2015-11-21 19:00:00         1        22  20151121191"
            ],
            "text/html": [
              "\n",
              "  <div id=\"df-7b41eebf-4ff2-44f6-80e7-1910b625a4a3\" class=\"colab-df-container\">\n",
              "    <div>\n",
              "<style scoped>\n",
              "    .dataframe tbody tr th:only-of-type {\n",
              "        vertical-align: middle;\n",
              "    }\n",
              "\n",
              "    .dataframe tbody tr th {\n",
              "        vertical-align: top;\n",
              "    }\n",
              "\n",
              "    .dataframe thead th {\n",
              "        text-align: right;\n",
              "    }\n",
              "</style>\n",
              "<table border=\"1\" class=\"dataframe\">\n",
              "  <thead>\n",
              "    <tr style=\"text-align: right;\">\n",
              "      <th></th>\n",
              "      <th>DateTime</th>\n",
              "      <th>Junction</th>\n",
              "      <th>Vehicles</th>\n",
              "      <th>ID</th>\n",
              "    </tr>\n",
              "  </thead>\n",
              "  <tbody>\n",
              "    <tr>\n",
              "      <th>495</th>\n",
              "      <td>2015-11-21 15:00:00</td>\n",
              "      <td>1</td>\n",
              "      <td>18</td>\n",
              "      <td>20151121151</td>\n",
              "    </tr>\n",
              "    <tr>\n",
              "      <th>496</th>\n",
              "      <td>2015-11-21 16:00:00</td>\n",
              "      <td>1</td>\n",
              "      <td>17</td>\n",
              "      <td>20151121161</td>\n",
              "    </tr>\n",
              "    <tr>\n",
              "      <th>497</th>\n",
              "      <td>2015-11-21 17:00:00</td>\n",
              "      <td>1</td>\n",
              "      <td>17</td>\n",
              "      <td>20151121171</td>\n",
              "    </tr>\n",
              "    <tr>\n",
              "      <th>498</th>\n",
              "      <td>2015-11-21 18:00:00</td>\n",
              "      <td>1</td>\n",
              "      <td>19</td>\n",
              "      <td>20151121181</td>\n",
              "    </tr>\n",
              "    <tr>\n",
              "      <th>499</th>\n",
              "      <td>2015-11-21 19:00:00</td>\n",
              "      <td>1</td>\n",
              "      <td>22</td>\n",
              "      <td>20151121191</td>\n",
              "    </tr>\n",
              "  </tbody>\n",
              "</table>\n",
              "</div>\n",
              "    <div class=\"colab-df-buttons\">\n",
              "\n",
              "  <div class=\"colab-df-container\">\n",
              "    <button class=\"colab-df-convert\" onclick=\"convertToInteractive('df-7b41eebf-4ff2-44f6-80e7-1910b625a4a3')\"\n",
              "            title=\"Convert this dataframe to an interactive table.\"\n",
              "            style=\"display:none;\">\n",
              "\n",
              "  <svg xmlns=\"http://www.w3.org/2000/svg\" height=\"24px\" viewBox=\"0 -960 960 960\">\n",
              "    <path d=\"M120-120v-720h720v720H120Zm60-500h600v-160H180v160Zm220 220h160v-160H400v160Zm0 220h160v-160H400v160ZM180-400h160v-160H180v160Zm440 0h160v-160H620v160ZM180-180h160v-160H180v160Zm440 0h160v-160H620v160Z\"/>\n",
              "  </svg>\n",
              "    </button>\n",
              "\n",
              "  <style>\n",
              "    .colab-df-container {\n",
              "      display:flex;\n",
              "      gap: 12px;\n",
              "    }\n",
              "\n",
              "    .colab-df-convert {\n",
              "      background-color: #E8F0FE;\n",
              "      border: none;\n",
              "      border-radius: 50%;\n",
              "      cursor: pointer;\n",
              "      display: none;\n",
              "      fill: #1967D2;\n",
              "      height: 32px;\n",
              "      padding: 0 0 0 0;\n",
              "      width: 32px;\n",
              "    }\n",
              "\n",
              "    .colab-df-convert:hover {\n",
              "      background-color: #E2EBFA;\n",
              "      box-shadow: 0px 1px 2px rgba(60, 64, 67, 0.3), 0px 1px 3px 1px rgba(60, 64, 67, 0.15);\n",
              "      fill: #174EA6;\n",
              "    }\n",
              "\n",
              "    .colab-df-buttons div {\n",
              "      margin-bottom: 4px;\n",
              "    }\n",
              "\n",
              "    [theme=dark] .colab-df-convert {\n",
              "      background-color: #3B4455;\n",
              "      fill: #D2E3FC;\n",
              "    }\n",
              "\n",
              "    [theme=dark] .colab-df-convert:hover {\n",
              "      background-color: #434B5C;\n",
              "      box-shadow: 0px 1px 3px 1px rgba(0, 0, 0, 0.15);\n",
              "      filter: drop-shadow(0px 1px 2px rgba(0, 0, 0, 0.3));\n",
              "      fill: #FFFFFF;\n",
              "    }\n",
              "  </style>\n",
              "\n",
              "    <script>\n",
              "      const buttonEl =\n",
              "        document.querySelector('#df-7b41eebf-4ff2-44f6-80e7-1910b625a4a3 button.colab-df-convert');\n",
              "      buttonEl.style.display =\n",
              "        google.colab.kernel.accessAllowed ? 'block' : 'none';\n",
              "\n",
              "      async function convertToInteractive(key) {\n",
              "        const element = document.querySelector('#df-7b41eebf-4ff2-44f6-80e7-1910b625a4a3');\n",
              "        const dataTable =\n",
              "          await google.colab.kernel.invokeFunction('convertToInteractive',\n",
              "                                                    [key], {});\n",
              "        if (!dataTable) return;\n",
              "\n",
              "        const docLinkHtml = 'Like what you see? Visit the ' +\n",
              "          '<a target=\"_blank\" href=https://colab.research.google.com/notebooks/data_table.ipynb>data table notebook</a>'\n",
              "          + ' to learn more about interactive tables.';\n",
              "        element.innerHTML = '';\n",
              "        dataTable['output_type'] = 'display_data';\n",
              "        await google.colab.output.renderOutput(dataTable, element);\n",
              "        const docLink = document.createElement('div');\n",
              "        docLink.innerHTML = docLinkHtml;\n",
              "        element.appendChild(docLink);\n",
              "      }\n",
              "    </script>\n",
              "  </div>\n",
              "\n",
              "\n",
              "<div id=\"df-72af40dc-099c-4dd0-a73e-93d8e54d73a9\">\n",
              "  <button class=\"colab-df-quickchart\" onclick=\"quickchart('df-72af40dc-099c-4dd0-a73e-93d8e54d73a9')\"\n",
              "            title=\"Suggest charts\"\n",
              "            style=\"display:none;\">\n",
              "\n",
              "<svg xmlns=\"http://www.w3.org/2000/svg\" height=\"24px\"viewBox=\"0 0 24 24\"\n",
              "     width=\"24px\">\n",
              "    <g>\n",
              "        <path d=\"M19 3H5c-1.1 0-2 .9-2 2v14c0 1.1.9 2 2 2h14c1.1 0 2-.9 2-2V5c0-1.1-.9-2-2-2zM9 17H7v-7h2v7zm4 0h-2V7h2v10zm4 0h-2v-4h2v4z\"/>\n",
              "    </g>\n",
              "</svg>\n",
              "  </button>\n",
              "\n",
              "<style>\n",
              "  .colab-df-quickchart {\n",
              "      --bg-color: #E8F0FE;\n",
              "      --fill-color: #1967D2;\n",
              "      --hover-bg-color: #E2EBFA;\n",
              "      --hover-fill-color: #174EA6;\n",
              "      --disabled-fill-color: #AAA;\n",
              "      --disabled-bg-color: #DDD;\n",
              "  }\n",
              "\n",
              "  [theme=dark] .colab-df-quickchart {\n",
              "      --bg-color: #3B4455;\n",
              "      --fill-color: #D2E3FC;\n",
              "      --hover-bg-color: #434B5C;\n",
              "      --hover-fill-color: #FFFFFF;\n",
              "      --disabled-bg-color: #3B4455;\n",
              "      --disabled-fill-color: #666;\n",
              "  }\n",
              "\n",
              "  .colab-df-quickchart {\n",
              "    background-color: var(--bg-color);\n",
              "    border: none;\n",
              "    border-radius: 50%;\n",
              "    cursor: pointer;\n",
              "    display: none;\n",
              "    fill: var(--fill-color);\n",
              "    height: 32px;\n",
              "    padding: 0;\n",
              "    width: 32px;\n",
              "  }\n",
              "\n",
              "  .colab-df-quickchart:hover {\n",
              "    background-color: var(--hover-bg-color);\n",
              "    box-shadow: 0 1px 2px rgba(60, 64, 67, 0.3), 0 1px 3px 1px rgba(60, 64, 67, 0.15);\n",
              "    fill: var(--button-hover-fill-color);\n",
              "  }\n",
              "\n",
              "  .colab-df-quickchart-complete:disabled,\n",
              "  .colab-df-quickchart-complete:disabled:hover {\n",
              "    background-color: var(--disabled-bg-color);\n",
              "    fill: var(--disabled-fill-color);\n",
              "    box-shadow: none;\n",
              "  }\n",
              "\n",
              "  .colab-df-spinner {\n",
              "    border: 2px solid var(--fill-color);\n",
              "    border-color: transparent;\n",
              "    border-bottom-color: var(--fill-color);\n",
              "    animation:\n",
              "      spin 1s steps(1) infinite;\n",
              "  }\n",
              "\n",
              "  @keyframes spin {\n",
              "    0% {\n",
              "      border-color: transparent;\n",
              "      border-bottom-color: var(--fill-color);\n",
              "      border-left-color: var(--fill-color);\n",
              "    }\n",
              "    20% {\n",
              "      border-color: transparent;\n",
              "      border-left-color: var(--fill-color);\n",
              "      border-top-color: var(--fill-color);\n",
              "    }\n",
              "    30% {\n",
              "      border-color: transparent;\n",
              "      border-left-color: var(--fill-color);\n",
              "      border-top-color: var(--fill-color);\n",
              "      border-right-color: var(--fill-color);\n",
              "    }\n",
              "    40% {\n",
              "      border-color: transparent;\n",
              "      border-right-color: var(--fill-color);\n",
              "      border-top-color: var(--fill-color);\n",
              "    }\n",
              "    60% {\n",
              "      border-color: transparent;\n",
              "      border-right-color: var(--fill-color);\n",
              "    }\n",
              "    80% {\n",
              "      border-color: transparent;\n",
              "      border-right-color: var(--fill-color);\n",
              "      border-bottom-color: var(--fill-color);\n",
              "    }\n",
              "    90% {\n",
              "      border-color: transparent;\n",
              "      border-bottom-color: var(--fill-color);\n",
              "    }\n",
              "  }\n",
              "</style>\n",
              "\n",
              "  <script>\n",
              "    async function quickchart(key) {\n",
              "      const quickchartButtonEl =\n",
              "        document.querySelector('#' + key + ' button');\n",
              "      quickchartButtonEl.disabled = true;  // To prevent multiple clicks.\n",
              "      quickchartButtonEl.classList.add('colab-df-spinner');\n",
              "      try {\n",
              "        const charts = await google.colab.kernel.invokeFunction(\n",
              "            'suggestCharts', [key], {});\n",
              "      } catch (error) {\n",
              "        console.error('Error during call to suggestCharts:', error);\n",
              "      }\n",
              "      quickchartButtonEl.classList.remove('colab-df-spinner');\n",
              "      quickchartButtonEl.classList.add('colab-df-quickchart-complete');\n",
              "    }\n",
              "    (() => {\n",
              "      let quickchartButtonEl =\n",
              "        document.querySelector('#df-72af40dc-099c-4dd0-a73e-93d8e54d73a9 button');\n",
              "      quickchartButtonEl.style.display =\n",
              "        google.colab.kernel.accessAllowed ? 'block' : 'none';\n",
              "    })();\n",
              "  </script>\n",
              "</div>\n",
              "\n",
              "    </div>\n",
              "  </div>\n"
            ],
            "application/vnd.google.colaboratory.intrinsic+json": {
              "type": "dataframe",
              "repr_error": "0"
            }
          },
          "metadata": {},
          "execution_count": 17
        }
      ]
    },
    {
      "cell_type": "markdown",
      "source": [
        "### From the above, we can conclude that the data is non-stationary."
      ],
      "metadata": {
        "id": "G4kdL4tv3oDa"
      }
    },
    {
      "cell_type": "markdown",
      "source": [
        "## Fit auto_arima function to AirPassengers dataset\n"
      ],
      "metadata": {
        "id": "-tuW0NLNnway"
      }
    },
    {
      "cell_type": "code",
      "source": [
        "stepwise_fit = auto_arima(df_part['Vehicles'], start_p = 1, start_q = 1,\n",
        "                          max_p = 3, max_q = 3, m = 12,\n",
        "                          start_P = 0, seasonal = True,\n",
        "                          d = None, D = 1, trace = True,\n",
        "                          error_action ='ignore',   # we don't want to know if an order does not work\n",
        "                          suppress_warnings = True,  # we don't want convergence warnings\n",
        "                          stepwise = True)           # set to stepwise"
      ],
      "metadata": {
        "id": "cz9vW3-InvlO",
        "colab": {
          "base_uri": "https://localhost:8080/"
        },
        "outputId": "951347f0-010b-4cb0-b556-08f90374b700"
      },
      "execution_count": 11,
      "outputs": [
        {
          "output_type": "stream",
          "name": "stdout",
          "text": [
            "Performing stepwise search to minimize aic\n",
            " ARIMA(1,0,1)(0,1,1)[12] intercept   : AIC=inf, Time=3.46 sec\n",
            " ARIMA(0,0,0)(0,1,0)[12] intercept   : AIC=3727.520, Time=0.08 sec\n",
            " ARIMA(1,0,0)(1,1,0)[12] intercept   : AIC=2737.006, Time=0.90 sec\n",
            " ARIMA(0,0,1)(0,1,1)[12] intercept   : AIC=inf, Time=3.44 sec\n",
            " ARIMA(0,0,0)(0,1,0)[12]             : AIC=3725.624, Time=0.11 sec\n",
            " ARIMA(1,0,0)(0,1,0)[12] intercept   : AIC=3056.391, Time=0.22 sec\n",
            " ARIMA(1,0,0)(2,1,0)[12] intercept   : AIC=2734.580, Time=4.01 sec\n",
            " ARIMA(1,0,0)(2,1,1)[12] intercept   : AIC=inf, Time=13.69 sec\n",
            " ARIMA(1,0,0)(1,1,1)[12] intercept   : AIC=inf, Time=2.46 sec\n",
            " ARIMA(0,0,0)(2,1,0)[12] intercept   : AIC=3217.879, Time=3.26 sec\n",
            " ARIMA(2,0,0)(2,1,0)[12] intercept   : AIC=2702.995, Time=3.32 sec\n",
            " ARIMA(2,0,0)(1,1,0)[12] intercept   : AIC=2704.180, Time=3.36 sec\n",
            " ARIMA(2,0,0)(2,1,1)[12] intercept   : AIC=inf, Time=11.91 sec\n",
            " ARIMA(2,0,0)(1,1,1)[12] intercept   : AIC=inf, Time=6.29 sec\n",
            " ARIMA(3,0,0)(2,1,0)[12] intercept   : AIC=2704.976, Time=4.67 sec\n",
            " ARIMA(2,0,1)(2,1,0)[12] intercept   : AIC=2704.956, Time=8.10 sec\n",
            " ARIMA(1,0,1)(2,1,0)[12] intercept   : AIC=2704.726, Time=3.55 sec\n",
            " ARIMA(3,0,1)(2,1,0)[12] intercept   : AIC=2706.667, Time=13.93 sec\n",
            " ARIMA(2,0,0)(2,1,0)[12]             : AIC=2701.016, Time=1.11 sec\n",
            " ARIMA(2,0,0)(1,1,0)[12]             : AIC=2702.194, Time=0.59 sec\n",
            " ARIMA(2,0,0)(2,1,1)[12]             : AIC=inf, Time=11.20 sec\n",
            " ARIMA(2,0,0)(1,1,1)[12]             : AIC=inf, Time=1.98 sec\n",
            " ARIMA(1,0,0)(2,1,0)[12]             : AIC=2732.622, Time=0.96 sec\n",
            " ARIMA(3,0,0)(2,1,0)[12]             : AIC=2702.997, Time=1.57 sec\n",
            " ARIMA(2,0,1)(2,1,0)[12]             : AIC=2702.977, Time=1.70 sec\n",
            " ARIMA(1,0,1)(2,1,0)[12]             : AIC=2702.745, Time=1.36 sec\n",
            " ARIMA(3,0,1)(2,1,0)[12]             : AIC=2704.689, Time=7.41 sec\n",
            "\n",
            "Best model:  ARIMA(2,0,0)(2,1,0)[12]          \n",
            "Total fit time: 114.729 seconds\n"
          ]
        }
      ]
    },
    {
      "cell_type": "markdown",
      "source": [
        "### From the above, we can see the best model is (2,0,0)(2,1,0)[12]"
      ],
      "metadata": {
        "id": "XHLC5wY3GR8Q"
      }
    },
    {
      "cell_type": "markdown",
      "source": [
        "## To print the summary\n"
      ],
      "metadata": {
        "id": "-U8yqyxaoSzI"
      }
    },
    {
      "cell_type": "code",
      "source": [
        "stepwise_fit.summary()"
      ],
      "metadata": {
        "id": "VVL7KDMXn9QC",
        "colab": {
          "base_uri": "https://localhost:8080/",
          "height": 473
        },
        "outputId": "c9c69cb5-66fb-4ce7-f3be-99a3888f5dba"
      },
      "execution_count": 12,
      "outputs": [
        {
          "output_type": "execute_result",
          "data": {
            "text/plain": [
              "<class 'statsmodels.iolib.summary.Summary'>\n",
              "\"\"\"\n",
              "                                     SARIMAX Results                                      \n",
              "==========================================================================================\n",
              "Dep. Variable:                                  y   No. Observations:                  500\n",
              "Model:             SARIMAX(2, 0, 0)x(2, 1, 0, 12)   Log Likelihood               -1345.508\n",
              "Date:                            Wed, 21 Aug 2024   AIC                           2701.016\n",
              "Time:                                    08:45:13   BIC                           2721.968\n",
              "Sample:                                         0   HQIC                          2709.246\n",
              "                                            - 500                                         \n",
              "Covariance Type:                              opg                                         \n",
              "==============================================================================\n",
              "                 coef    std err          z      P>|z|      [0.025      0.975]\n",
              "------------------------------------------------------------------------------\n",
              "ar.L1          0.5972      0.036     16.586      0.000       0.527       0.668\n",
              "ar.L2          0.2684      0.036      7.385      0.000       0.197       0.340\n",
              "ar.S.L12      -0.8060      0.040    -20.313      0.000      -0.884      -0.728\n",
              "ar.S.L24      -0.0824      0.046     -1.776      0.076      -0.173       0.009\n",
              "sigma2        14.2186      0.565     25.172      0.000      13.111      15.326\n",
              "===================================================================================\n",
              "Ljung-Box (L1) (Q):                   0.00   Jarque-Bera (JB):               262.83\n",
              "Prob(Q):                              0.99   Prob(JB):                         0.00\n",
              "Heteroskedasticity (H):               1.22   Skew:                             0.64\n",
              "Prob(H) (two-sided):                  0.21   Kurtosis:                         6.36\n",
              "===================================================================================\n",
              "\n",
              "Warnings:\n",
              "[1] Covariance matrix calculated using the outer product of gradients (complex-step).\n",
              "\"\"\""
            ],
            "text/html": [
              "<table class=\"simpletable\">\n",
              "<caption>SARIMAX Results</caption>\n",
              "<tr>\n",
              "  <th>Dep. Variable:</th>                  <td>y</td>               <th>  No. Observations:  </th>    <td>500</td>   \n",
              "</tr>\n",
              "<tr>\n",
              "  <th>Model:</th>           <td>SARIMAX(2, 0, 0)x(2, 1, 0, 12)</td> <th>  Log Likelihood     </th> <td>-1345.508</td>\n",
              "</tr>\n",
              "<tr>\n",
              "  <th>Date:</th>                   <td>Wed, 21 Aug 2024</td>        <th>  AIC                </th> <td>2701.016</td> \n",
              "</tr>\n",
              "<tr>\n",
              "  <th>Time:</th>                       <td>08:45:13</td>            <th>  BIC                </th> <td>2721.968</td> \n",
              "</tr>\n",
              "<tr>\n",
              "  <th>Sample:</th>                         <td>0</td>               <th>  HQIC               </th> <td>2709.246</td> \n",
              "</tr>\n",
              "<tr>\n",
              "  <th></th>                             <td> - 500</td>             <th>                     </th>     <td> </td>    \n",
              "</tr>\n",
              "<tr>\n",
              "  <th>Covariance Type:</th>               <td>opg</td>              <th>                     </th>     <td> </td>    \n",
              "</tr>\n",
              "</table>\n",
              "<table class=\"simpletable\">\n",
              "<tr>\n",
              "      <td></td>        <th>coef</th>     <th>std err</th>      <th>z</th>      <th>P>|z|</th>  <th>[0.025</th>    <th>0.975]</th>  \n",
              "</tr>\n",
              "<tr>\n",
              "  <th>ar.L1</th>    <td>    0.5972</td> <td>    0.036</td> <td>   16.586</td> <td> 0.000</td> <td>    0.527</td> <td>    0.668</td>\n",
              "</tr>\n",
              "<tr>\n",
              "  <th>ar.L2</th>    <td>    0.2684</td> <td>    0.036</td> <td>    7.385</td> <td> 0.000</td> <td>    0.197</td> <td>    0.340</td>\n",
              "</tr>\n",
              "<tr>\n",
              "  <th>ar.S.L12</th> <td>   -0.8060</td> <td>    0.040</td> <td>  -20.313</td> <td> 0.000</td> <td>   -0.884</td> <td>   -0.728</td>\n",
              "</tr>\n",
              "<tr>\n",
              "  <th>ar.S.L24</th> <td>   -0.0824</td> <td>    0.046</td> <td>   -1.776</td> <td> 0.076</td> <td>   -0.173</td> <td>    0.009</td>\n",
              "</tr>\n",
              "<tr>\n",
              "  <th>sigma2</th>   <td>   14.2186</td> <td>    0.565</td> <td>   25.172</td> <td> 0.000</td> <td>   13.111</td> <td>   15.326</td>\n",
              "</tr>\n",
              "</table>\n",
              "<table class=\"simpletable\">\n",
              "<tr>\n",
              "  <th>Ljung-Box (L1) (Q):</th>     <td>0.00</td> <th>  Jarque-Bera (JB):  </th> <td>262.83</td>\n",
              "</tr>\n",
              "<tr>\n",
              "  <th>Prob(Q):</th>                <td>0.99</td> <th>  Prob(JB):          </th>  <td>0.00</td> \n",
              "</tr>\n",
              "<tr>\n",
              "  <th>Heteroskedasticity (H):</th> <td>1.22</td> <th>  Skew:              </th>  <td>0.64</td> \n",
              "</tr>\n",
              "<tr>\n",
              "  <th>Prob(H) (two-sided):</th>    <td>0.21</td> <th>  Kurtosis:          </th>  <td>6.36</td> \n",
              "</tr>\n",
              "</table><br/><br/>Warnings:<br/>[1] Covariance matrix calculated using the outer product of gradients (complex-step)."
            ],
            "text/latex": "\\begin{center}\n\\begin{tabular}{lclc}\n\\toprule\n\\textbf{Dep. Variable:}          &               y                & \\textbf{  No. Observations:  } &    500      \\\\\n\\textbf{Model:}                  & SARIMAX(2, 0, 0)x(2, 1, 0, 12) & \\textbf{  Log Likelihood     } & -1345.508   \\\\\n\\textbf{Date:}                   &        Wed, 21 Aug 2024        & \\textbf{  AIC                } &  2701.016   \\\\\n\\textbf{Time:}                   &            08:45:13            & \\textbf{  BIC                } &  2721.968   \\\\\n\\textbf{Sample:}                 &               0                & \\textbf{  HQIC               } &  2709.246   \\\\\n\\textbf{}                        &              - 500             & \\textbf{                     } &             \\\\\n\\textbf{Covariance Type:}        &              opg               & \\textbf{                     } &             \\\\\n\\bottomrule\n\\end{tabular}\n\\begin{tabular}{lcccccc}\n                  & \\textbf{coef} & \\textbf{std err} & \\textbf{z} & \\textbf{P$> |$z$|$} & \\textbf{[0.025} & \\textbf{0.975]}  \\\\\n\\midrule\n\\textbf{ar.L1}    &       0.5972  &        0.036     &    16.586  &         0.000        &        0.527    &        0.668     \\\\\n\\textbf{ar.L2}    &       0.2684  &        0.036     &     7.385  &         0.000        &        0.197    &        0.340     \\\\\n\\textbf{ar.S.L12} &      -0.8060  &        0.040     &   -20.313  &         0.000        &       -0.884    &       -0.728     \\\\\n\\textbf{ar.S.L24} &      -0.0824  &        0.046     &    -1.776  &         0.076        &       -0.173    &        0.009     \\\\\n\\textbf{sigma2}   &      14.2186  &        0.565     &    25.172  &         0.000        &       13.111    &       15.326     \\\\\n\\bottomrule\n\\end{tabular}\n\\begin{tabular}{lclc}\n\\textbf{Ljung-Box (L1) (Q):}     & 0.00 & \\textbf{  Jarque-Bera (JB):  } & 262.83  \\\\\n\\textbf{Prob(Q):}                & 0.99 & \\textbf{  Prob(JB):          } &  0.00   \\\\\n\\textbf{Heteroskedasticity (H):} & 1.22 & \\textbf{  Skew:              } &  0.64   \\\\\n\\textbf{Prob(H) (two-sided):}    & 0.21 & \\textbf{  Kurtosis:          } &  6.36   \\\\\n\\bottomrule\n\\end{tabular}\n%\\caption{SARIMAX Results}\n\\end{center}\n\nWarnings: \\newline\n [1] Covariance matrix calculated using the outer product of gradients (complex-step)."
          },
          "metadata": {},
          "execution_count": 12
        }
      ]
    },
    {
      "cell_type": "markdown",
      "source": [
        "# Fit ARIMA Model"
      ],
      "metadata": {
        "id": "gmAEP7Ccof7D"
      }
    },
    {
      "cell_type": "markdown",
      "source": [
        "## Split data into train / test sets\n"
      ],
      "metadata": {
        "id": "TKR8rs8nonFv"
      }
    },
    {
      "cell_type": "code",
      "source": [
        "train = df.iloc[:len(df)-12]\n",
        "test = df.iloc[len(df)-12:] # set one year(12 months) for testing"
      ],
      "metadata": {
        "id": "zrfME6QNooRy"
      },
      "execution_count": 13,
      "outputs": []
    },
    {
      "cell_type": "markdown",
      "source": [
        "## Fit a SARIMAX(2, 0, 0)x(2, 1, 0, 12) on the training set\n"
      ],
      "metadata": {
        "id": "4RA4GFRTozIX"
      }
    },
    {
      "cell_type": "code",
      "source": [
        "model = SARIMAX(train['Vehicles'],\n",
        "                order = (2, 0, 0),\n",
        "                seasonal_order =(2, 1, 0, 12))"
      ],
      "metadata": {
        "id": "lCbS2KMPoXQO"
      },
      "execution_count": 14,
      "outputs": []
    },
    {
      "cell_type": "code",
      "source": [
        "result = model.fit()"
      ],
      "metadata": {
        "id": "WBQDObSaImEH"
      },
      "execution_count": 15,
      "outputs": []
    },
    {
      "cell_type": "code",
      "source": [
        "result.summary()"
      ],
      "metadata": {
        "colab": {
          "base_uri": "https://localhost:8080/",
          "height": 473
        },
        "id": "IxwnbhueIpg4",
        "outputId": "2bc0cb4e-abda-46f3-8a71-93c6b0d12508"
      },
      "execution_count": 16,
      "outputs": [
        {
          "output_type": "execute_result",
          "data": {
            "text/plain": [
              "<class 'statsmodels.iolib.summary.Summary'>\n",
              "\"\"\"\n",
              "                                     SARIMAX Results                                      \n",
              "==========================================================================================\n",
              "Dep. Variable:                           Vehicles   No. Observations:                48108\n",
              "Model:             SARIMAX(2, 0, 0)x(2, 1, 0, 12)   Log Likelihood             -145998.999\n",
              "Date:                            Wed, 21 Aug 2024   AIC                         292007.997\n",
              "Time:                                    09:02:00   BIC                         292051.902\n",
              "Sample:                                         0   HQIC                        292021.775\n",
              "                                          - 48108                                         \n",
              "Covariance Type:                              opg                                         \n",
              "==============================================================================\n",
              "                 coef    std err          z      P>|z|      [0.025      0.975]\n",
              "------------------------------------------------------------------------------\n",
              "ar.L1          0.7730      0.002    457.856      0.000       0.770       0.776\n",
              "ar.L2          0.0874      0.002     45.137      0.000       0.084       0.091\n",
              "ar.S.L12      -0.8202      0.003   -318.161      0.000      -0.825      -0.815\n",
              "ar.S.L24      -0.1516      0.003    -58.380      0.000      -0.157      -0.146\n",
              "sigma2        25.3572      0.038    665.153      0.000      25.282      25.432\n",
              "===================================================================================\n",
              "Ljung-Box (L1) (Q):                   0.00   Jarque-Bera (JB):           3557886.72\n",
              "Prob(Q):                              0.94   Prob(JB):                         0.00\n",
              "Heteroskedasticity (H):               1.27   Skew:                             1.65\n",
              "Prob(H) (two-sided):                  0.00   Kurtosis:                        45.01\n",
              "===================================================================================\n",
              "\n",
              "Warnings:\n",
              "[1] Covariance matrix calculated using the outer product of gradients (complex-step).\n",
              "\"\"\""
            ],
            "text/html": [
              "<table class=\"simpletable\">\n",
              "<caption>SARIMAX Results</caption>\n",
              "<tr>\n",
              "  <th>Dep. Variable:</th>              <td>Vehicles</td>            <th>  No. Observations:  </th>    <td>48108</td>   \n",
              "</tr>\n",
              "<tr>\n",
              "  <th>Model:</th>           <td>SARIMAX(2, 0, 0)x(2, 1, 0, 12)</td> <th>  Log Likelihood     </th> <td>-145998.999</td>\n",
              "</tr>\n",
              "<tr>\n",
              "  <th>Date:</th>                   <td>Wed, 21 Aug 2024</td>        <th>  AIC                </th> <td>292007.997</td> \n",
              "</tr>\n",
              "<tr>\n",
              "  <th>Time:</th>                       <td>09:02:00</td>            <th>  BIC                </th> <td>292051.902</td> \n",
              "</tr>\n",
              "<tr>\n",
              "  <th>Sample:</th>                         <td>0</td>               <th>  HQIC               </th> <td>292021.775</td> \n",
              "</tr>\n",
              "<tr>\n",
              "  <th></th>                            <td> - 48108</td>            <th>                     </th>      <td> </td>     \n",
              "</tr>\n",
              "<tr>\n",
              "  <th>Covariance Type:</th>               <td>opg</td>              <th>                     </th>      <td> </td>     \n",
              "</tr>\n",
              "</table>\n",
              "<table class=\"simpletable\">\n",
              "<tr>\n",
              "      <td></td>        <th>coef</th>     <th>std err</th>      <th>z</th>      <th>P>|z|</th>  <th>[0.025</th>    <th>0.975]</th>  \n",
              "</tr>\n",
              "<tr>\n",
              "  <th>ar.L1</th>    <td>    0.7730</td> <td>    0.002</td> <td>  457.856</td> <td> 0.000</td> <td>    0.770</td> <td>    0.776</td>\n",
              "</tr>\n",
              "<tr>\n",
              "  <th>ar.L2</th>    <td>    0.0874</td> <td>    0.002</td> <td>   45.137</td> <td> 0.000</td> <td>    0.084</td> <td>    0.091</td>\n",
              "</tr>\n",
              "<tr>\n",
              "  <th>ar.S.L12</th> <td>   -0.8202</td> <td>    0.003</td> <td> -318.161</td> <td> 0.000</td> <td>   -0.825</td> <td>   -0.815</td>\n",
              "</tr>\n",
              "<tr>\n",
              "  <th>ar.S.L24</th> <td>   -0.1516</td> <td>    0.003</td> <td>  -58.380</td> <td> 0.000</td> <td>   -0.157</td> <td>   -0.146</td>\n",
              "</tr>\n",
              "<tr>\n",
              "  <th>sigma2</th>   <td>   25.3572</td> <td>    0.038</td> <td>  665.153</td> <td> 0.000</td> <td>   25.282</td> <td>   25.432</td>\n",
              "</tr>\n",
              "</table>\n",
              "<table class=\"simpletable\">\n",
              "<tr>\n",
              "  <th>Ljung-Box (L1) (Q):</th>     <td>0.00</td> <th>  Jarque-Bera (JB):  </th> <td>3557886.72</td>\n",
              "</tr>\n",
              "<tr>\n",
              "  <th>Prob(Q):</th>                <td>0.94</td> <th>  Prob(JB):          </th>    <td>0.00</td>   \n",
              "</tr>\n",
              "<tr>\n",
              "  <th>Heteroskedasticity (H):</th> <td>1.27</td> <th>  Skew:              </th>    <td>1.65</td>   \n",
              "</tr>\n",
              "<tr>\n",
              "  <th>Prob(H) (two-sided):</th>    <td>0.00</td> <th>  Kurtosis:          </th>    <td>45.01</td>  \n",
              "</tr>\n",
              "</table><br/><br/>Warnings:<br/>[1] Covariance matrix calculated using the outer product of gradients (complex-step)."
            ],
            "text/latex": "\\begin{center}\n\\begin{tabular}{lclc}\n\\toprule\n\\textbf{Dep. Variable:}          &            Vehicles            & \\textbf{  No. Observations:  } &    48108     \\\\\n\\textbf{Model:}                  & SARIMAX(2, 0, 0)x(2, 1, 0, 12) & \\textbf{  Log Likelihood     } & -145998.999  \\\\\n\\textbf{Date:}                   &        Wed, 21 Aug 2024        & \\textbf{  AIC                } &  292007.997  \\\\\n\\textbf{Time:}                   &            09:02:00            & \\textbf{  BIC                } &  292051.902  \\\\\n\\textbf{Sample:}                 &               0                & \\textbf{  HQIC               } &  292021.775  \\\\\n\\textbf{}                        &             - 48108            & \\textbf{                     } &              \\\\\n\\textbf{Covariance Type:}        &              opg               & \\textbf{                     } &              \\\\\n\\bottomrule\n\\end{tabular}\n\\begin{tabular}{lcccccc}\n                  & \\textbf{coef} & \\textbf{std err} & \\textbf{z} & \\textbf{P$> |$z$|$} & \\textbf{[0.025} & \\textbf{0.975]}  \\\\\n\\midrule\n\\textbf{ar.L1}    &       0.7730  &        0.002     &   457.856  &         0.000        &        0.770    &        0.776     \\\\\n\\textbf{ar.L2}    &       0.0874  &        0.002     &    45.137  &         0.000        &        0.084    &        0.091     \\\\\n\\textbf{ar.S.L12} &      -0.8202  &        0.003     &  -318.161  &         0.000        &       -0.825    &       -0.815     \\\\\n\\textbf{ar.S.L24} &      -0.1516  &        0.003     &   -58.380  &         0.000        &       -0.157    &       -0.146     \\\\\n\\textbf{sigma2}   &      25.3572  &        0.038     &   665.153  &         0.000        &       25.282    &       25.432     \\\\\n\\bottomrule\n\\end{tabular}\n\\begin{tabular}{lclc}\n\\textbf{Ljung-Box (L1) (Q):}     & 0.00 & \\textbf{  Jarque-Bera (JB):  } & 3557886.72  \\\\\n\\textbf{Prob(Q):}                & 0.94 & \\textbf{  Prob(JB):          } &    0.00     \\\\\n\\textbf{Heteroskedasticity (H):} & 1.27 & \\textbf{  Skew:              } &    1.65     \\\\\n\\textbf{Prob(H) (two-sided):}    & 0.00 & \\textbf{  Kurtosis:          } &   45.01     \\\\\n\\bottomrule\n\\end{tabular}\n%\\caption{SARIMAX Results}\n\\end{center}\n\nWarnings: \\newline\n [1] Covariance matrix calculated using the outer product of gradients (complex-step)."
          },
          "metadata": {},
          "execution_count": 16
        }
      ]
    },
    {
      "cell_type": "markdown",
      "source": [
        "## Predictions of ARIMA Model against the test set"
      ],
      "metadata": {
        "id": "_5Lr8auSo_1S"
      }
    },
    {
      "cell_type": "code",
      "source": [
        "start = len(train)\n",
        "end = len(train) + len(test) - 1\n",
        "\n",
        "# Predictions for one-year against the test set\n",
        "predictions = result.predict(start, end,\n",
        "                             typ = 'levels').rename(\"Predictions\")"
      ],
      "metadata": {
        "id": "YwOKVP13o376"
      },
      "execution_count": 18,
      "outputs": []
    },
    {
      "cell_type": "markdown",
      "source": [
        "## plot predictions and actual values\n",
        "\n"
      ],
      "metadata": {
        "id": "p0kqVgrJpEl2"
      }
    },
    {
      "cell_type": "code",
      "source": [
        "predictions.plot(legend = True)\n",
        "test['Vehicles'].plot(legend = True)"
      ],
      "metadata": {
        "id": "whB0gEkNpLMA",
        "colab": {
          "base_uri": "https://localhost:8080/",
          "height": 447
        },
        "outputId": "336d7c69-2903-4347-ab65-4cb099de3c6e"
      },
      "execution_count": 19,
      "outputs": [
        {
          "output_type": "execute_result",
          "data": {
            "text/plain": [
              "<Axes: >"
            ]
          },
          "metadata": {},
          "execution_count": 19
        },
        {
          "output_type": "display_data",
          "data": {
            "text/plain": [
              "<Figure size 640x480 with 1 Axes>"
            ],
            "image/png": "[encoded data removed]"
          },
          "metadata": {}
        }
      ]
    },
    {
      "cell_type": "markdown",
      "source": [
        "## Evaluate the model using MSE and RMSE"
      ],
      "metadata": {
        "id": "yQzbOm5NpQr_"
      }
    },
    {
      "cell_type": "code",
      "source": [
        "# Calculate root mean squared error\n",
        "rmse(test['Vehicles'], predictions)\n",
        "\n",
        "# Calculate mean squared error\n",
        "mean_squared_error(test['Vehicles'], predictions)"
      ],
      "metadata": {
        "id": "JKFO1OIlpLby",
        "colab": {
          "base_uri": "https://localhost:8080/"
        },
        "outputId": "2eabbb9f-b6d4-4488-f9c6-21fab46e02c3"
      },
      "execution_count": 21,
      "outputs": [
        {
          "output_type": "execute_result",
          "data": {
            "text/plain": [
              "47.46297787581582"
            ]
          },
          "metadata": {},
          "execution_count": 21
        }
      ]
    },
    {
      "cell_type": "markdown",
      "source": [
        "#**Well Done :)**"
      ],
      "metadata": {
        "id": "vNa2uJ9FpYI7"
      }
    }
  ]
}
