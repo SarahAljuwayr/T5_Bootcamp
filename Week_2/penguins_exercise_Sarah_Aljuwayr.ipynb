{
 "cells": [
  {
   "cell_type": "markdown",
   "metadata": {},
   "source": [
    "# EDA on Penguins"
   ]
  },
  {
   "cell_type": "markdown",
   "metadata": {},
   "source": [
    "In this notebook exercise, we will conduct simple EDA steps on the popular penguins dataset."
   ]
  },
  {
   "cell_type": "markdown",
   "metadata": {},
   "source": [
    "### Load the dataset\n",
    "\n",
    "Dataset source: https://github.com/allisonhorst/palmerpenguins"
   ]
  },
  {
   "cell_type": "code",
   "execution_count": 211,
   "metadata": {},
   "outputs": [],
   "source": [
    "import seaborn as sns"
   ]
  },
  {
   "cell_type": "code",
   "execution_count": 212,
   "metadata": {},
   "outputs": [],
   "source": [
    "df = sns.load_dataset('penguins')"
   ]
  },
  {
   "cell_type": "code",
   "execution_count": 213,
   "metadata": {},
   "outputs": [
    {
     "data": {
      "text/plain": [
       "(344, 7)"
      ]
     },
     "execution_count": 213,
     "metadata": {},
     "output_type": "execute_result"
    }
   ],
   "source": [
    "df.shape"
   ]
  },
  {
   "cell_type": "code",
   "execution_count": null,
   "metadata": {},
   "outputs": [],
   "source": []
  },
  {
   "cell_type": "markdown",
   "metadata": {},
   "source": [
    "# Step 1 Understand the Features\n",
    "\n",
    "You can find information about this dataset here: https://www.kaggle.com/code/parulpandey/penguin-dataset-the-new-iris\n",
    "\n",
    "**Question: in your own words**:\n",
    "1. describe each feature\n",
    "2. mention its type (numeric or categorical)\n",
    "3. write its name in Arabic\n",
    "\n",
    "Note: use a Markdown cell."
   ]
  },
  {
   "cell_type": "markdown",
   "metadata": {},
   "source": [
    "# 1.\n",
    "- species: penguin species (Chinstrap, Adélie, or Gentoo)\n",
    "- culmen_length_mm: culmen length (mm)\n",
    "- culmen_depth_mm: culmen depth (mm)\n",
    "- flipper_length_mm: flipper length (mm)\n",
    "- body_mass_g: body mass (g)\n",
    "- island: island name (Dream, Torgersen, or Biscoe) in the Palmer Archipelago (Antarctica)\n",
    "- sex: penguin sex\n",
    "\n",
    "# 2.\n",
    "# Categorical\n",
    "- species\n",
    "- island \n",
    "- sex\n",
    "\n",
    "# numerical\n",
    "- culmen_length_mm \n",
    "- culmen_depth_mm \n",
    "- flipper_length_mm \n",
    "- body_mass_g\n",
    "\n",
    "# 3.\n",
    "- species (صِنف)\n",
    "- island  (جزيرة)\n",
    "- sex (جنس)\n",
    "- culmen_length_mm (طول المنقار بوحدة قياس الـ مم)\n",
    "- culmen_depth_mm (عرض المنقار بوحدة قياس الـ مم)\n",
    "- flipper_length_mm (طول الزعانف بوحدة قياس الـ مم)\n",
    "- body_mass_g (كتلة الجسم بوحدة قياس الـ جرام)"
   ]
  },
  {
   "cell_type": "markdown",
   "metadata": {},
   "source": []
  },
  {
   "cell_type": "markdown",
   "metadata": {},
   "source": []
  },
  {
   "cell_type": "markdown",
   "metadata": {},
   "source": [
    "Hint: you can attach an image to illustrate what the features are."
   ]
  },
  {
   "cell_type": "markdown",
   "metadata": {},
   "source": [
    "<img src=\"https://github.com/allisonhorst/palmerpenguins/raw/main/man/figures/culmen_depth.png\" width=\"400\">"
   ]
  },
  {
   "cell_type": "markdown",
   "metadata": {},
   "source": [
    "# Step 2"
   ]
  },
  {
   "cell_type": "markdown",
   "metadata": {},
   "source": [
    "- Have a look at the columns and their values (`head`, `sample`, `tail`)\n",
    "- Look at the technical information (`info`)"
   ]
  },
  {
   "cell_type": "code",
   "execution_count": 214,
   "metadata": {},
   "outputs": [
    {
     "data": {
      "text/html": [
       "<div>\n",
       "<style scoped>\n",
       "    .dataframe tbody tr th:only-of-type {\n",
       "        vertical-align: middle;\n",
       "    }\n",
       "\n",
       "    .dataframe tbody tr th {\n",
       "        vertical-align: top;\n",
       "    }\n",
       "\n",
       "    .dataframe thead th {\n",
       "        text-align: right;\n",
       "    }\n",
       "</style>\n",
       "<table border=\"1\" class=\"dataframe\">\n",
       "  <thead>\n",
       "    <tr style=\"text-align: right;\">\n",
       "      <th></th>\n",
       "      <th>species</th>\n",
       "      <th>island</th>\n",
       "      <th>bill_length_mm</th>\n",
       "      <th>bill_depth_mm</th>\n",
       "      <th>flipper_length_mm</th>\n",
       "      <th>body_mass_g</th>\n",
       "      <th>sex</th>\n",
       "    </tr>\n",
       "  </thead>\n",
       "  <tbody>\n",
       "    <tr>\n",
       "      <th>0</th>\n",
       "      <td>Adelie</td>\n",
       "      <td>Torgersen</td>\n",
       "      <td>39.1</td>\n",
       "      <td>18.7</td>\n",
       "      <td>181.0</td>\n",
       "      <td>3750.0</td>\n",
       "      <td>Male</td>\n",
       "    </tr>\n",
       "    <tr>\n",
       "      <th>1</th>\n",
       "      <td>Adelie</td>\n",
       "      <td>Torgersen</td>\n",
       "      <td>39.5</td>\n",
       "      <td>17.4</td>\n",
       "      <td>186.0</td>\n",
       "      <td>3800.0</td>\n",
       "      <td>Female</td>\n",
       "    </tr>\n",
       "    <tr>\n",
       "      <th>2</th>\n",
       "      <td>Adelie</td>\n",
       "      <td>Torgersen</td>\n",
       "      <td>40.3</td>\n",
       "      <td>18.0</td>\n",
       "      <td>195.0</td>\n",
       "      <td>3250.0</td>\n",
       "      <td>Female</td>\n",
       "    </tr>\n",
       "    <tr>\n",
       "      <th>3</th>\n",
       "      <td>Adelie</td>\n",
       "      <td>Torgersen</td>\n",
       "      <td>NaN</td>\n",
       "      <td>NaN</td>\n",
       "      <td>NaN</td>\n",
       "      <td>NaN</td>\n",
       "      <td>NaN</td>\n",
       "    </tr>\n",
       "    <tr>\n",
       "      <th>4</th>\n",
       "      <td>Adelie</td>\n",
       "      <td>Torgersen</td>\n",
       "      <td>36.7</td>\n",
       "      <td>19.3</td>\n",
       "      <td>193.0</td>\n",
       "      <td>3450.0</td>\n",
       "      <td>Female</td>\n",
       "    </tr>\n",
       "  </tbody>\n",
       "</table>\n",
       "</div>"
      ],
      "text/plain": [
       "  species     island  bill_length_mm  bill_depth_mm  flipper_length_mm  \\\n",
       "0  Adelie  Torgersen            39.1           18.7              181.0   \n",
       "1  Adelie  Torgersen            39.5           17.4              186.0   \n",
       "2  Adelie  Torgersen            40.3           18.0              195.0   \n",
       "3  Adelie  Torgersen             NaN            NaN                NaN   \n",
       "4  Adelie  Torgersen            36.7           19.3              193.0   \n",
       "\n",
       "   body_mass_g     sex  \n",
       "0       3750.0    Male  \n",
       "1       3800.0  Female  \n",
       "2       3250.0  Female  \n",
       "3          NaN     NaN  \n",
       "4       3450.0  Female  "
      ]
     },
     "execution_count": 214,
     "metadata": {},
     "output_type": "execute_result"
    }
   ],
   "source": [
    "df.head()"
   ]
  },
  {
   "cell_type": "code",
   "execution_count": 215,
   "metadata": {},
   "outputs": [
    {
     "data": {
      "text/html": [
       "<div>\n",
       "<style scoped>\n",
       "    .dataframe tbody tr th:only-of-type {\n",
       "        vertical-align: middle;\n",
       "    }\n",
       "\n",
       "    .dataframe tbody tr th {\n",
       "        vertical-align: top;\n",
       "    }\n",
       "\n",
       "    .dataframe thead th {\n",
       "        text-align: right;\n",
       "    }\n",
       "</style>\n",
       "<table border=\"1\" class=\"dataframe\">\n",
       "  <thead>\n",
       "    <tr style=\"text-align: right;\">\n",
       "      <th></th>\n",
       "      <th>species</th>\n",
       "      <th>island</th>\n",
       "      <th>bill_length_mm</th>\n",
       "      <th>bill_depth_mm</th>\n",
       "      <th>flipper_length_mm</th>\n",
       "      <th>body_mass_g</th>\n",
       "      <th>sex</th>\n",
       "    </tr>\n",
       "  </thead>\n",
       "  <tbody>\n",
       "    <tr>\n",
       "      <th>137</th>\n",
       "      <td>Adelie</td>\n",
       "      <td>Dream</td>\n",
       "      <td>40.2</td>\n",
       "      <td>20.1</td>\n",
       "      <td>200.0</td>\n",
       "      <td>3975.0</td>\n",
       "      <td>Male</td>\n",
       "    </tr>\n",
       "  </tbody>\n",
       "</table>\n",
       "</div>"
      ],
      "text/plain": [
       "    species island  bill_length_mm  bill_depth_mm  flipper_length_mm  \\\n",
       "137  Adelie  Dream            40.2           20.1              200.0   \n",
       "\n",
       "     body_mass_g   sex  \n",
       "137       3975.0  Male  "
      ]
     },
     "execution_count": 215,
     "metadata": {},
     "output_type": "execute_result"
    }
   ],
   "source": [
    "df.sample()"
   ]
  },
  {
   "cell_type": "code",
   "execution_count": 216,
   "metadata": {},
   "outputs": [
    {
     "data": {
      "text/html": [
       "<div>\n",
       "<style scoped>\n",
       "    .dataframe tbody tr th:only-of-type {\n",
       "        vertical-align: middle;\n",
       "    }\n",
       "\n",
       "    .dataframe tbody tr th {\n",
       "        vertical-align: top;\n",
       "    }\n",
       "\n",
       "    .dataframe thead th {\n",
       "        text-align: right;\n",
       "    }\n",
       "</style>\n",
       "<table border=\"1\" class=\"dataframe\">\n",
       "  <thead>\n",
       "    <tr style=\"text-align: right;\">\n",
       "      <th></th>\n",
       "      <th>species</th>\n",
       "      <th>island</th>\n",
       "      <th>bill_length_mm</th>\n",
       "      <th>bill_depth_mm</th>\n",
       "      <th>flipper_length_mm</th>\n",
       "      <th>body_mass_g</th>\n",
       "      <th>sex</th>\n",
       "    </tr>\n",
       "  </thead>\n",
       "  <tbody>\n",
       "    <tr>\n",
       "      <th>339</th>\n",
       "      <td>Gentoo</td>\n",
       "      <td>Biscoe</td>\n",
       "      <td>NaN</td>\n",
       "      <td>NaN</td>\n",
       "      <td>NaN</td>\n",
       "      <td>NaN</td>\n",
       "      <td>NaN</td>\n",
       "    </tr>\n",
       "    <tr>\n",
       "      <th>340</th>\n",
       "      <td>Gentoo</td>\n",
       "      <td>Biscoe</td>\n",
       "      <td>46.8</td>\n",
       "      <td>14.3</td>\n",
       "      <td>215.0</td>\n",
       "      <td>4850.0</td>\n",
       "      <td>Female</td>\n",
       "    </tr>\n",
       "    <tr>\n",
       "      <th>341</th>\n",
       "      <td>Gentoo</td>\n",
       "      <td>Biscoe</td>\n",
       "      <td>50.4</td>\n",
       "      <td>15.7</td>\n",
       "      <td>222.0</td>\n",
       "      <td>5750.0</td>\n",
       "      <td>Male</td>\n",
       "    </tr>\n",
       "    <tr>\n",
       "      <th>342</th>\n",
       "      <td>Gentoo</td>\n",
       "      <td>Biscoe</td>\n",
       "      <td>45.2</td>\n",
       "      <td>14.8</td>\n",
       "      <td>212.0</td>\n",
       "      <td>5200.0</td>\n",
       "      <td>Female</td>\n",
       "    </tr>\n",
       "    <tr>\n",
       "      <th>343</th>\n",
       "      <td>Gentoo</td>\n",
       "      <td>Biscoe</td>\n",
       "      <td>49.9</td>\n",
       "      <td>16.1</td>\n",
       "      <td>213.0</td>\n",
       "      <td>5400.0</td>\n",
       "      <td>Male</td>\n",
       "    </tr>\n",
       "  </tbody>\n",
       "</table>\n",
       "</div>"
      ],
      "text/plain": [
       "    species  island  bill_length_mm  bill_depth_mm  flipper_length_mm  \\\n",
       "339  Gentoo  Biscoe             NaN            NaN                NaN   \n",
       "340  Gentoo  Biscoe            46.8           14.3              215.0   \n",
       "341  Gentoo  Biscoe            50.4           15.7              222.0   \n",
       "342  Gentoo  Biscoe            45.2           14.8              212.0   \n",
       "343  Gentoo  Biscoe            49.9           16.1              213.0   \n",
       "\n",
       "     body_mass_g     sex  \n",
       "339          NaN     NaN  \n",
       "340       4850.0  Female  \n",
       "341       5750.0    Male  \n",
       "342       5200.0  Female  \n",
       "343       5400.0    Male  "
      ]
     },
     "execution_count": 216,
     "metadata": {},
     "output_type": "execute_result"
    }
   ],
   "source": [
    "df.tail()"
   ]
  },
  {
   "cell_type": "code",
   "execution_count": 217,
   "metadata": {},
   "outputs": [
    {
     "name": "stdout",
     "output_type": "stream",
     "text": [
      "<class 'pandas.core.frame.DataFrame'>\n",
      "RangeIndex: 344 entries, 0 to 343\n",
      "Data columns (total 7 columns):\n",
      " #   Column             Non-Null Count  Dtype  \n",
      "---  ------             --------------  -----  \n",
      " 0   species            344 non-null    object \n",
      " 1   island             344 non-null    object \n",
      " 2   bill_length_mm     342 non-null    float64\n",
      " 3   bill_depth_mm      342 non-null    float64\n",
      " 4   flipper_length_mm  342 non-null    float64\n",
      " 5   body_mass_g        342 non-null    float64\n",
      " 6   sex                333 non-null    object \n",
      "dtypes: float64(4), object(3)\n",
      "memory usage: 18.9+ KB\n"
     ]
    }
   ],
   "source": [
    "df.info()"
   ]
  },
  {
   "cell_type": "markdown",
   "metadata": {},
   "source": [
    "# Step 3\n",
    "\n",
    "1. For each column, check and handle missing values; state your strategy and justify it. Examples:\n",
    "    - Strategy: drop the column. Justification: ...?\n",
    "    - Strategy: fill missing values. Justificaiton: ...?\n",
    "    - Strategy: drop the row. Justification: ...?\n",
    "1. Calculate count and percentage of missing values before handling them\n",
    "1. Check and handle duplicated rows\n",
    "1. Calculate the percentage of data loss after cleaning"
   ]
  },
  {
   "cell_type": "code",
   "execution_count": 218,
   "metadata": {},
   "outputs": [],
   "source": [
    "missing_values_b=df.isna().sum()"
   ]
  },
  {
   "cell_type": "code",
   "execution_count": 219,
   "metadata": {},
   "outputs": [
    {
     "name": "stdout",
     "output_type": "stream",
     "text": [
      "344\n"
     ]
    }
   ],
   "source": [
    "df_before=len(df)\n",
    "print(df_before)"
   ]
  },
  {
   "cell_type": "code",
   "execution_count": 220,
   "metadata": {},
   "outputs": [
    {
     "name": "stdout",
     "output_type": "stream",
     "text": [
      "species              0.0\n",
      "island               0.0\n",
      "bill_length_mm       1.0\n",
      "bill_depth_mm        1.0\n",
      "flipper_length_mm    1.0\n",
      "body_mass_g          1.0\n",
      "sex                  3.0\n",
      "dtype: float64\n"
     ]
    }
   ],
   "source": [
    "percentage_missing_before=(missing_values_b/len(df)*100).round(0)\n",
    "print(percentage_missing_before)"
   ]
  },
  {
   "cell_type": "code",
   "execution_count": 221,
   "metadata": {},
   "outputs": [
    {
     "data": {
      "text/plain": [
       "pandas.core.series.Series"
      ]
     },
     "execution_count": 221,
     "metadata": {},
     "output_type": "execute_result"
    }
   ],
   "source": [
    "type(df['sex'].mode())"
   ]
  },
  {
   "cell_type": "code",
   "execution_count": 222,
   "metadata": {},
   "outputs": [
    {
     "data": {
      "text/plain": [
       "0    Male\n",
       "Name: sex, dtype: object"
      ]
     },
     "execution_count": 222,
     "metadata": {},
     "output_type": "execute_result"
    }
   ],
   "source": [
    "df['sex'].mode()"
   ]
  },
  {
   "cell_type": "code",
   "execution_count": 223,
   "metadata": {},
   "outputs": [],
   "source": [
    "df['sex'].fillna(df['sex'].mode()[0], inplace=True)"
   ]
  },
  {
   "cell_type": "code",
   "execution_count": 224,
   "metadata": {},
   "outputs": [
    {
     "data": {
      "text/plain": [
       "0"
      ]
     },
     "execution_count": 224,
     "metadata": {},
     "output_type": "execute_result"
    }
   ],
   "source": [
    "df['sex'].isna().sum()"
   ]
  },
  {
   "cell_type": "code",
   "execution_count": 225,
   "metadata": {},
   "outputs": [],
   "source": [
    "df['bill_length_mm'].fillna(df['bill_length_mm'].mean(), inplace=True)"
   ]
  },
  {
   "cell_type": "code",
   "execution_count": 226,
   "metadata": {},
   "outputs": [
    {
     "data": {
      "text/plain": [
       "0"
      ]
     },
     "execution_count": 226,
     "metadata": {},
     "output_type": "execute_result"
    }
   ],
   "source": [
    "df['bill_length_mm'].isna().sum()"
   ]
  },
  {
   "cell_type": "code",
   "execution_count": 227,
   "metadata": {},
   "outputs": [],
   "source": [
    "df['bill_depth_mm'].fillna(df['bill_depth_mm'].mean(), inplace=True)"
   ]
  },
  {
   "cell_type": "code",
   "execution_count": 228,
   "metadata": {},
   "outputs": [
    {
     "data": {
      "text/plain": [
       "0"
      ]
     },
     "execution_count": 228,
     "metadata": {},
     "output_type": "execute_result"
    }
   ],
   "source": [
    "df['bill_depth_mm'].isna().sum()"
   ]
  },
  {
   "cell_type": "code",
   "execution_count": 229,
   "metadata": {},
   "outputs": [],
   "source": [
    "df['flipper_length_mm'].fillna(df['flipper_length_mm'].mean(), inplace=True)"
   ]
  },
  {
   "cell_type": "code",
   "execution_count": 230,
   "metadata": {},
   "outputs": [
    {
     "data": {
      "text/plain": [
       "0"
      ]
     },
     "execution_count": 230,
     "metadata": {},
     "output_type": "execute_result"
    }
   ],
   "source": [
    "df['flipper_length_mm'].isna().sum()"
   ]
  },
  {
   "cell_type": "code",
   "execution_count": 231,
   "metadata": {},
   "outputs": [],
   "source": [
    "df['body_mass_g'].fillna(df['body_mass_g'].mean(), inplace=True)"
   ]
  },
  {
   "cell_type": "code",
   "execution_count": 232,
   "metadata": {},
   "outputs": [
    {
     "data": {
      "text/plain": [
       "0"
      ]
     },
     "execution_count": 232,
     "metadata": {},
     "output_type": "execute_result"
    }
   ],
   "source": [
    "df['body_mass_g'].isna().sum()"
   ]
  },
  {
   "cell_type": "code",
   "execution_count": 233,
   "metadata": {},
   "outputs": [
    {
     "data": {
      "text/plain": [
       "0"
      ]
     },
     "execution_count": 233,
     "metadata": {},
     "output_type": "execute_result"
    }
   ],
   "source": [
    "df.duplicated().sum()"
   ]
  },
  {
   "cell_type": "code",
   "execution_count": 234,
   "metadata": {},
   "outputs": [],
   "source": [
    "missing_values_a=df.isna().sum()"
   ]
  },
  {
   "cell_type": "code",
   "execution_count": 235,
   "metadata": {},
   "outputs": [
    {
     "name": "stdout",
     "output_type": "stream",
     "text": [
      "species              0.0\n",
      "island               0.0\n",
      "bill_length_mm       0.0\n",
      "bill_depth_mm        0.0\n",
      "flipper_length_mm    0.0\n",
      "body_mass_g          0.0\n",
      "sex                  0.0\n",
      "dtype: float64\n"
     ]
    }
   ],
   "source": [
    "percentage_missing_after=(missing_values_a/len(df)*100).round(0)\n",
    "print(percentage_missing_after)"
   ]
  },
  {
   "cell_type": "code",
   "execution_count": 236,
   "metadata": {},
   "outputs": [
    {
     "name": "stdout",
     "output_type": "stream",
     "text": [
      "344\n"
     ]
    }
   ],
   "source": [
    "df_after=len(df)\n",
    "print(df_after)"
   ]
  },
  {
   "cell_type": "code",
   "execution_count": 237,
   "metadata": {},
   "outputs": [
    {
     "name": "stdout",
     "output_type": "stream",
     "text": [
      "100.0\n"
     ]
    }
   ],
   "source": [
    "loss_percentage=(df_before/df_after)*100\n",
    "print(loss_percentage)"
   ]
  },
  {
   "cell_type": "code",
   "execution_count": null,
   "metadata": {},
   "outputs": [],
   "source": []
  },
  {
   "cell_type": "markdown",
   "metadata": {},
   "source": [
    "# Step 4"
   ]
  },
  {
   "cell_type": "markdown",
   "metadata": {},
   "source": [
    "#### Data types conversion\n",
    "- We shall convert the string types to `category` to preserve memory\n",
    "- numeric types can be stored in less precision: `float32`"
   ]
  },
  {
   "cell_type": "code",
   "execution_count": 238,
   "metadata": {},
   "outputs": [],
   "source": [
    "mem_usage_before = df.memory_usage(deep=True)"
   ]
  },
  {
   "cell_type": "code",
   "execution_count": 239,
   "metadata": {},
   "outputs": [],
   "source": [
    "# convert categotical types\n",
    "df['species'] = df['species'].astype('category')\n",
    "df['island'] = df['island'].astype('category')\n",
    "df['sex'] = df['sex'].astype('category')"
   ]
  },
  {
   "cell_type": "code",
   "execution_count": 240,
   "metadata": {},
   "outputs": [],
   "source": [
    "# convert numerical types\n",
    "df['bill_depth_mm'] = df['bill_depth_mm'].astype('float32')\n",
    "df['bill_length_mm'] = df['bill_length_mm'].astype('float32')\n",
    "df['flipper_length_mm'] = df['flipper_length_mm'].astype('float32')\n",
    "df['body_mass_g'] = df['body_mass_g'].astype('float32')"
   ]
  },
  {
   "cell_type": "code",
   "execution_count": 241,
   "metadata": {},
   "outputs": [
    {
     "name": "stdout",
     "output_type": "stream",
     "text": [
      "<class 'pandas.core.frame.DataFrame'>\n",
      "RangeIndex: 344 entries, 0 to 343\n",
      "Data columns (total 7 columns):\n",
      " #   Column             Non-Null Count  Dtype   \n",
      "---  ------             --------------  -----   \n",
      " 0   species            344 non-null    category\n",
      " 1   island             344 non-null    category\n",
      " 2   bill_length_mm     344 non-null    float32 \n",
      " 3   bill_depth_mm      344 non-null    float32 \n",
      " 4   flipper_length_mm  344 non-null    float32 \n",
      " 5   body_mass_g        344 non-null    float32 \n",
      " 6   sex                344 non-null    category\n",
      "dtypes: category(3), float32(4)\n",
      "memory usage: 6.9 KB\n"
     ]
    }
   ],
   "source": [
    "df.info()"
   ]
  },
  {
   "cell_type": "markdown",
   "metadata": {},
   "source": [
    "Calculate memory saved after type conversion"
   ]
  },
  {
   "cell_type": "code",
   "execution_count": 242,
   "metadata": {},
   "outputs": [],
   "source": [
    "mem_usage_after = df.memory_usage(deep=True)"
   ]
  },
  {
   "cell_type": "code",
   "execution_count": 243,
   "metadata": {},
   "outputs": [
    {
     "name": "stdout",
     "output_type": "stream",
     "text": [
      "memory saved: 66 KB\n"
     ]
    }
   ],
   "source": [
    "print('memory saved:', (mem_usage_before - mem_usage_after).sum() // 1024, 'KB')"
   ]
  },
  {
   "cell_type": "markdown",
   "metadata": {},
   "source": [
    "# Step 5"
   ]
  },
  {
   "cell_type": "markdown",
   "metadata": {},
   "source": [
    "#### Detect inconsistency in categorical values"
   ]
  },
  {
   "cell_type": "markdown",
   "metadata": {},
   "source": [
    "The categorical columns should be checked for any inconsistencies. For example. We look for lowercase, uppercase, or inconsistent use of codes (e.g., \"M\", \"F\") with non-codes (e.g., \"Male\", \"Female\")  in the `sex` column."
   ]
  },
  {
   "cell_type": "markdown",
   "metadata": {},
   "source": [
    "- hint: use `.unique()` to check the number of unique values in a column\n",
    "- you can also use: `.value_counts()` to check the frequency of each value in a column"
   ]
  },
  {
   "cell_type": "code",
   "execution_count": 244,
   "metadata": {},
   "outputs": [
    {
     "data": {
      "text/plain": [
       "['Adelie', 'Chinstrap', 'Gentoo']\n",
       "Categories (3, object): ['Adelie', 'Chinstrap', 'Gentoo']"
      ]
     },
     "execution_count": 244,
     "metadata": {},
     "output_type": "execute_result"
    }
   ],
   "source": [
    "df['species'].unique()"
   ]
  },
  {
   "cell_type": "code",
   "execution_count": 245,
   "metadata": {},
   "outputs": [
    {
     "data": {
      "text/plain": [
       "Adelie       152\n",
       "Gentoo       124\n",
       "Chinstrap     68\n",
       "Name: species, dtype: int64"
      ]
     },
     "execution_count": 245,
     "metadata": {},
     "output_type": "execute_result"
    }
   ],
   "source": [
    "df['species'].value_counts()"
   ]
  },
  {
   "cell_type": "code",
   "execution_count": 246,
   "metadata": {},
   "outputs": [
    {
     "data": {
      "text/plain": [
       "['Torgersen', 'Biscoe', 'Dream']\n",
       "Categories (3, object): ['Biscoe', 'Dream', 'Torgersen']"
      ]
     },
     "execution_count": 246,
     "metadata": {},
     "output_type": "execute_result"
    }
   ],
   "source": [
    "df['island'].unique()"
   ]
  },
  {
   "cell_type": "code",
   "execution_count": 247,
   "metadata": {},
   "outputs": [
    {
     "data": {
      "text/plain": [
       "Biscoe       168\n",
       "Dream        124\n",
       "Torgersen     52\n",
       "Name: island, dtype: int64"
      ]
     },
     "execution_count": 247,
     "metadata": {},
     "output_type": "execute_result"
    }
   ],
   "source": [
    "df['island'].value_counts()"
   ]
  },
  {
   "cell_type": "code",
   "execution_count": 248,
   "metadata": {},
   "outputs": [
    {
     "data": {
      "text/plain": [
       "['Male', 'Female']\n",
       "Categories (2, object): ['Female', 'Male']"
      ]
     },
     "execution_count": 248,
     "metadata": {},
     "output_type": "execute_result"
    }
   ],
   "source": [
    "df['sex'].unique()"
   ]
  },
  {
   "cell_type": "code",
   "execution_count": 249,
   "metadata": {},
   "outputs": [
    {
     "data": {
      "text/plain": [
       "Male      179\n",
       "Female    165\n",
       "Name: sex, dtype: int64"
      ]
     },
     "execution_count": 249,
     "metadata": {},
     "output_type": "execute_result"
    }
   ],
   "source": [
    "df['sex'].value_counts()"
   ]
  },
  {
   "cell_type": "markdown",
   "metadata": {},
   "source": [
    "# Step 6: Univariate Analysis"
   ]
  },
  {
   "cell_type": "markdown",
   "metadata": {},
   "source": [
    "- Separate numerical from categorical columns (hint; use `df.select_dtypes()`)\n",
    "- Look at the statistical information for each:\n",
    "    - `df_num.describe().T`\n",
    "    - `df_cat.describe().T`"
   ]
  },
  {
   "cell_type": "code",
   "execution_count": 253,
   "metadata": {},
   "outputs": [],
   "source": [
    "df_cat=df.select_dtypes(include=['category'])"
   ]
  },
  {
   "cell_type": "code",
   "execution_count": 254,
   "metadata": {},
   "outputs": [
    {
     "data": {
      "text/html": [
       "<div>\n",
       "<style scoped>\n",
       "    .dataframe tbody tr th:only-of-type {\n",
       "        vertical-align: middle;\n",
       "    }\n",
       "\n",
       "    .dataframe tbody tr th {\n",
       "        vertical-align: top;\n",
       "    }\n",
       "\n",
       "    .dataframe thead th {\n",
       "        text-align: right;\n",
       "    }\n",
       "</style>\n",
       "<table border=\"1\" class=\"dataframe\">\n",
       "  <thead>\n",
       "    <tr style=\"text-align: right;\">\n",
       "      <th></th>\n",
       "      <th>count</th>\n",
       "      <th>unique</th>\n",
       "      <th>top</th>\n",
       "      <th>freq</th>\n",
       "    </tr>\n",
       "  </thead>\n",
       "  <tbody>\n",
       "    <tr>\n",
       "      <th>species</th>\n",
       "      <td>344</td>\n",
       "      <td>3</td>\n",
       "      <td>Adelie</td>\n",
       "      <td>152</td>\n",
       "    </tr>\n",
       "    <tr>\n",
       "      <th>island</th>\n",
       "      <td>344</td>\n",
       "      <td>3</td>\n",
       "      <td>Biscoe</td>\n",
       "      <td>168</td>\n",
       "    </tr>\n",
       "    <tr>\n",
       "      <th>sex</th>\n",
       "      <td>344</td>\n",
       "      <td>2</td>\n",
       "      <td>Male</td>\n",
       "      <td>179</td>\n",
       "    </tr>\n",
       "  </tbody>\n",
       "</table>\n",
       "</div>"
      ],
      "text/plain": [
       "        count unique     top freq\n",
       "species   344      3  Adelie  152\n",
       "island    344      3  Biscoe  168\n",
       "sex       344      2    Male  179"
      ]
     },
     "execution_count": 254,
     "metadata": {},
     "output_type": "execute_result"
    }
   ],
   "source": [
    "df_cat.describe().T"
   ]
  },
  {
   "cell_type": "code",
   "execution_count": 255,
   "metadata": {},
   "outputs": [],
   "source": [
    "df_num=df.select_dtypes(include=['number'])"
   ]
  },
  {
   "cell_type": "code",
   "execution_count": 256,
   "metadata": {},
   "outputs": [
    {
     "data": {
      "text/html": [
       "<div>\n",
       "<style scoped>\n",
       "    .dataframe tbody tr th:only-of-type {\n",
       "        vertical-align: middle;\n",
       "    }\n",
       "\n",
       "    .dataframe tbody tr th {\n",
       "        vertical-align: top;\n",
       "    }\n",
       "\n",
       "    .dataframe thead th {\n",
       "        text-align: right;\n",
       "    }\n",
       "</style>\n",
       "<table border=\"1\" class=\"dataframe\">\n",
       "  <thead>\n",
       "    <tr style=\"text-align: right;\">\n",
       "      <th></th>\n",
       "      <th>count</th>\n",
       "      <th>mean</th>\n",
       "      <th>std</th>\n",
       "      <th>min</th>\n",
       "      <th>25%</th>\n",
       "      <th>50%</th>\n",
       "      <th>75%</th>\n",
       "      <th>max</th>\n",
       "    </tr>\n",
       "  </thead>\n",
       "  <tbody>\n",
       "    <tr>\n",
       "      <th>bill_length_mm</th>\n",
       "      <td>344.0</td>\n",
       "      <td>43.921940</td>\n",
       "      <td>5.443645</td>\n",
       "      <td>32.099998</td>\n",
       "      <td>39.275</td>\n",
       "      <td>44.250000</td>\n",
       "      <td>48.500000</td>\n",
       "      <td>59.599998</td>\n",
       "    </tr>\n",
       "    <tr>\n",
       "      <th>bill_depth_mm</th>\n",
       "      <td>344.0</td>\n",
       "      <td>17.151173</td>\n",
       "      <td>1.969027</td>\n",
       "      <td>13.100000</td>\n",
       "      <td>15.600</td>\n",
       "      <td>17.299999</td>\n",
       "      <td>18.700001</td>\n",
       "      <td>21.500000</td>\n",
       "    </tr>\n",
       "    <tr>\n",
       "      <th>flipper_length_mm</th>\n",
       "      <td>344.0</td>\n",
       "      <td>200.915192</td>\n",
       "      <td>14.020658</td>\n",
       "      <td>172.000000</td>\n",
       "      <td>190.000</td>\n",
       "      <td>197.000000</td>\n",
       "      <td>213.000000</td>\n",
       "      <td>231.000000</td>\n",
       "    </tr>\n",
       "    <tr>\n",
       "      <th>body_mass_g</th>\n",
       "      <td>344.0</td>\n",
       "      <td>4201.754395</td>\n",
       "      <td>799.613220</td>\n",
       "      <td>2700.000000</td>\n",
       "      <td>3550.000</td>\n",
       "      <td>4050.000000</td>\n",
       "      <td>4750.000000</td>\n",
       "      <td>6300.000000</td>\n",
       "    </tr>\n",
       "  </tbody>\n",
       "</table>\n",
       "</div>"
      ],
      "text/plain": [
       "                   count         mean         std          min       25%  \\\n",
       "bill_length_mm     344.0    43.921940    5.443645    32.099998    39.275   \n",
       "bill_depth_mm      344.0    17.151173    1.969027    13.100000    15.600   \n",
       "flipper_length_mm  344.0   200.915192   14.020658   172.000000   190.000   \n",
       "body_mass_g        344.0  4201.754395  799.613220  2700.000000  3550.000   \n",
       "\n",
       "                           50%          75%          max  \n",
       "bill_length_mm       44.250000    48.500000    59.599998  \n",
       "bill_depth_mm        17.299999    18.700001    21.500000  \n",
       "flipper_length_mm   197.000000   213.000000   231.000000  \n",
       "body_mass_g        4050.000000  4750.000000  6300.000000  "
      ]
     },
     "execution_count": 256,
     "metadata": {},
     "output_type": "execute_result"
    }
   ],
   "source": [
    "df_num.describe().T"
   ]
  },
  {
   "cell_type": "markdown",
   "metadata": {},
   "source": [
    "Use charts to plot `value_counts()` categorical variables:\n",
    "1. plot `species` using bar plot\n",
    "1. plot `island` using pie chart\n",
    "1. plot `sex` using horizontal bar plot"
   ]
  },
  {
   "cell_type": "code",
   "execution_count": 257,
   "metadata": {},
   "outputs": [
    {
     "data": {
      "text/plain": [
       "<AxesSubplot:>"
      ]
     },
     "execution_count": 257,
     "metadata": {},
     "output_type": "execute_result"
    },
    {
     "data": {
      "image/png": "[encoded data removed]",
      "text/plain": [
       "<Figure size 640x480 with 1 Axes>"
      ]
     },
     "metadata": {},
     "output_type": "display_data"
    }
   ],
   "source": [
    "df['species'].value_counts().plot(kind='bar')"
   ]
  },
  {
   "cell_type": "code",
   "execution_count": 258,
   "metadata": {},
   "outputs": [
    {
     "data": {
      "text/plain": [
       "<AxesSubplot:ylabel='island'>"
      ]
     },
     "execution_count": 258,
     "metadata": {},
     "output_type": "execute_result"
    },
    {
     "data": {
      "image/png": "[encoded data removed]",
      "text/plain": [
       "<Figure size 640x480 with 1 Axes>"
      ]
     },
     "metadata": {},
     "output_type": "display_data"
    }
   ],
   "source": [
    "df['island'].value_counts().plot(kind='pie')"
   ]
  },
  {
   "cell_type": "code",
   "execution_count": 259,
   "metadata": {},
   "outputs": [
    {
     "data": {
      "text/plain": [
       "<AxesSubplot:>"
      ]
     },
     "execution_count": 259,
     "metadata": {},
     "output_type": "execute_result"
    },
    {
     "data": {
      "image/png": "[encoded data removed]",
      "text/plain": [
       "<Figure size 640x480 with 1 Axes>"
      ]
     },
     "metadata": {},
     "output_type": "display_data"
    }
   ],
   "source": [
    "df['sex'].value_counts().plot(kind='barh')"
   ]
  },
  {
   "cell_type": "markdown",
   "metadata": {},
   "source": [
    "Plot numerical variables:\n",
    "\n",
    "1. Boxplot: `bill_length_mm`\n",
    "1. Histogram: `bill_depth_mm`\n",
    "1. Boxplot: `flipper_length_mm`\n",
    "1. Histogram: `body_mass_g`"
   ]
  },
  {
   "cell_type": "code",
   "execution_count": 260,
   "metadata": {},
   "outputs": [
    {
     "data": {
      "text/plain": [
       "<AxesSubplot:xlabel='bill_length_mm'>"
      ]
     },
     "execution_count": 260,
     "metadata": {},
     "output_type": "execute_result"
    },
    {
     "data": {
      "image/png": "[encoded data removed]",
      "text/plain": [
       "<Figure size 640x480 with 1 Axes>"
      ]
     },
     "metadata": {},
     "output_type": "display_data"
    }
   ],
   "source": [
    "sns.boxplot(x=df['bill_length_mm'])"
   ]
  },
  {
   "cell_type": "code",
   "execution_count": 261,
   "metadata": {},
   "outputs": [
    {
     "data": {
      "text/plain": [
       "<AxesSubplot:>"
      ]
     },
     "execution_count": 261,
     "metadata": {},
     "output_type": "execute_result"
    },
    {
     "data": {
      "image/png": "[encoded data removed]",
      "text/plain": [
       "<Figure size 640x480 with 1 Axes>"
      ]
     },
     "metadata": {},
     "output_type": "display_data"
    }
   ],
   "source": [
    "df['bill_depth_mm'].hist()"
   ]
  },
  {
   "cell_type": "code",
   "execution_count": 262,
   "metadata": {},
   "outputs": [
    {
     "data": {
      "text/plain": [
       "<AxesSubplot:xlabel='flipper_length_mm'>"
      ]
     },
     "execution_count": 262,
     "metadata": {},
     "output_type": "execute_result"
    },
    {
     "data": {
      "image/png": "[encoded data removed]",
      "text/plain": [
       "<Figure size 640x480 with 1 Axes>"
      ]
     },
     "metadata": {},
     "output_type": "display_data"
    }
   ],
   "source": [
    "sns.boxplot(x=df['flipper_length_mm'])"
   ]
  },
  {
   "cell_type": "code",
   "execution_count": 263,
   "metadata": {},
   "outputs": [
    {
     "data": {
      "text/plain": [
       "<AxesSubplot:>"
      ]
     },
     "execution_count": 263,
     "metadata": {},
     "output_type": "execute_result"
    },
    {
     "data": {
      "image/png": "[encoded data removed]",
      "text/plain": [
       "<Figure size 640x480 with 1 Axes>"
      ]
     },
     "metadata": {},
     "output_type": "display_data"
    }
   ],
   "source": [
    "df['body_mass_g'].hist()"
   ]
  },
  {
   "cell_type": "markdown",
   "metadata": {},
   "source": [
    "## Step 7: Bivariate Analysis\n",
    "\n",
    "#### Correlation between numerical features\n",
    "\n",
    "Let's find out if there is any correlation between numerical features."
   ]
  },
  {
   "cell_type": "markdown",
   "metadata": {},
   "source": [
    "- Hint: you can use the `df.corr()` to find the correlation matrix.\n",
    "- Hint: you can use `sns.heatmap()` to plot the correlation matrix"
   ]
  },
  {
   "cell_type": "code",
   "execution_count": 264,
   "metadata": {},
   "outputs": [
    {
     "name": "stdout",
     "output_type": "stream",
     "text": [
      "                   bill_length_mm  bill_depth_mm  flipper_length_mm  \\\n",
      "bill_length_mm           1.000000      -0.235053           0.656181   \n",
      "bill_depth_mm           -0.235053       1.000000          -0.583851   \n",
      "flipper_length_mm        0.656181      -0.583851           1.000000   \n",
      "body_mass_g              0.595110      -0.471916           0.871202   \n",
      "\n",
      "                   body_mass_g  \n",
      "bill_length_mm        0.595110  \n",
      "bill_depth_mm        -0.471916  \n",
      "flipper_length_mm     0.871202  \n",
      "body_mass_g           1.000000  \n"
     ]
    }
   ],
   "source": [
    "df_corr=df_num.corr()\n",
    "print(df_corr)"
   ]
  },
  {
   "cell_type": "code",
   "execution_count": 265,
   "metadata": {},
   "outputs": [
    {
     "data": {
      "text/plain": [
       "<AxesSubplot:>"
      ]
     },
     "execution_count": 265,
     "metadata": {},
     "output_type": "execute_result"
    },
    {
     "data": {
      "image/png": "[encoded data removed]",
      "text/plain": [
       "<Figure size 640x480 with 2 Axes>"
      ]
     },
     "metadata": {},
     "output_type": "display_data"
    }
   ],
   "source": [
    "sns.heatmap(df_corr)"
   ]
  },
  {
   "cell_type": "markdown",
   "metadata": {},
   "source": []
  },
  {
   "cell_type": "markdown",
   "metadata": {},
   "source": [
    "Write down your observations based on the correlation heatmap.\n",
    "\n",
    "Observations: The heatmap indicates that the physical characteristics of the penguins, which may be determined by correlation analysis, seem to be somewhat correlated."
   ]
  },
  {
   "cell_type": "markdown",
   "metadata": {},
   "source": []
  },
  {
   "cell_type": "markdown",
   "metadata": {},
   "source": [
    "### Feature Engineering\n",
    "\n",
    "- We might try adding the feature `bill_size` which is the product of `bill_length` and `bill_depth` to see if it has any significance in the model.\n",
    "- We might also try `bill_ratio` which is the ratio of `bill_length` to `bill_depth` to see if it has any significance in the model."
   ]
  },
  {
   "cell_type": "code",
   "execution_count": 266,
   "metadata": {},
   "outputs": [],
   "source": [
    "bill_size= df['bill_length_mm']*df['bill_depth_mm']\n",
    "bill_ratio= df['bill_length_mm']/df['bill_depth_mm']\n",
    "df['bill_size']=bill_size\n",
    "df['bill_ratio']=bill_ratio"
   ]
  },
  {
   "cell_type": "code",
   "execution_count": 267,
   "metadata": {},
   "outputs": [
    {
     "data": {
      "text/html": [
       "<div>\n",
       "<style scoped>\n",
       "    .dataframe tbody tr th:only-of-type {\n",
       "        vertical-align: middle;\n",
       "    }\n",
       "\n",
       "    .dataframe tbody tr th {\n",
       "        vertical-align: top;\n",
       "    }\n",
       "\n",
       "    .dataframe thead th {\n",
       "        text-align: right;\n",
       "    }\n",
       "</style>\n",
       "<table border=\"1\" class=\"dataframe\">\n",
       "  <thead>\n",
       "    <tr style=\"text-align: right;\">\n",
       "      <th></th>\n",
       "      <th>species</th>\n",
       "      <th>island</th>\n",
       "      <th>bill_length_mm</th>\n",
       "      <th>bill_depth_mm</th>\n",
       "      <th>flipper_length_mm</th>\n",
       "      <th>body_mass_g</th>\n",
       "      <th>sex</th>\n",
       "      <th>bill_size</th>\n",
       "      <th>bill_ratio</th>\n",
       "    </tr>\n",
       "  </thead>\n",
       "  <tbody>\n",
       "    <tr>\n",
       "      <th>0</th>\n",
       "      <td>Adelie</td>\n",
       "      <td>Torgersen</td>\n",
       "      <td>39.099998</td>\n",
       "      <td>18.700001</td>\n",
       "      <td>181.000000</td>\n",
       "      <td>3750.000000</td>\n",
       "      <td>Male</td>\n",
       "      <td>731.169983</td>\n",
       "      <td>2.090909</td>\n",
       "    </tr>\n",
       "    <tr>\n",
       "      <th>1</th>\n",
       "      <td>Adelie</td>\n",
       "      <td>Torgersen</td>\n",
       "      <td>39.500000</td>\n",
       "      <td>17.400000</td>\n",
       "      <td>186.000000</td>\n",
       "      <td>3800.000000</td>\n",
       "      <td>Female</td>\n",
       "      <td>687.299988</td>\n",
       "      <td>2.270115</td>\n",
       "    </tr>\n",
       "    <tr>\n",
       "      <th>2</th>\n",
       "      <td>Adelie</td>\n",
       "      <td>Torgersen</td>\n",
       "      <td>40.299999</td>\n",
       "      <td>18.000000</td>\n",
       "      <td>195.000000</td>\n",
       "      <td>3250.000000</td>\n",
       "      <td>Female</td>\n",
       "      <td>725.399963</td>\n",
       "      <td>2.238889</td>\n",
       "    </tr>\n",
       "    <tr>\n",
       "      <th>3</th>\n",
       "      <td>Adelie</td>\n",
       "      <td>Torgersen</td>\n",
       "      <td>43.921928</td>\n",
       "      <td>17.151169</td>\n",
       "      <td>200.915207</td>\n",
       "      <td>4201.754395</td>\n",
       "      <td>Male</td>\n",
       "      <td>753.312439</td>\n",
       "      <td>2.560871</td>\n",
       "    </tr>\n",
       "    <tr>\n",
       "      <th>4</th>\n",
       "      <td>Adelie</td>\n",
       "      <td>Torgersen</td>\n",
       "      <td>36.700001</td>\n",
       "      <td>19.299999</td>\n",
       "      <td>193.000000</td>\n",
       "      <td>3450.000000</td>\n",
       "      <td>Female</td>\n",
       "      <td>708.309998</td>\n",
       "      <td>1.901554</td>\n",
       "    </tr>\n",
       "    <tr>\n",
       "      <th>...</th>\n",
       "      <td>...</td>\n",
       "      <td>...</td>\n",
       "      <td>...</td>\n",
       "      <td>...</td>\n",
       "      <td>...</td>\n",
       "      <td>...</td>\n",
       "      <td>...</td>\n",
       "      <td>...</td>\n",
       "      <td>...</td>\n",
       "    </tr>\n",
       "    <tr>\n",
       "      <th>339</th>\n",
       "      <td>Gentoo</td>\n",
       "      <td>Biscoe</td>\n",
       "      <td>43.921928</td>\n",
       "      <td>17.151169</td>\n",
       "      <td>200.915207</td>\n",
       "      <td>4201.754395</td>\n",
       "      <td>Male</td>\n",
       "      <td>753.312439</td>\n",
       "      <td>2.560871</td>\n",
       "    </tr>\n",
       "    <tr>\n",
       "      <th>340</th>\n",
       "      <td>Gentoo</td>\n",
       "      <td>Biscoe</td>\n",
       "      <td>46.799999</td>\n",
       "      <td>14.300000</td>\n",
       "      <td>215.000000</td>\n",
       "      <td>4850.000000</td>\n",
       "      <td>Female</td>\n",
       "      <td>669.239990</td>\n",
       "      <td>3.272727</td>\n",
       "    </tr>\n",
       "    <tr>\n",
       "      <th>341</th>\n",
       "      <td>Gentoo</td>\n",
       "      <td>Biscoe</td>\n",
       "      <td>50.400002</td>\n",
       "      <td>15.700000</td>\n",
       "      <td>222.000000</td>\n",
       "      <td>5750.000000</td>\n",
       "      <td>Male</td>\n",
       "      <td>791.280029</td>\n",
       "      <td>3.210191</td>\n",
       "    </tr>\n",
       "    <tr>\n",
       "      <th>342</th>\n",
       "      <td>Gentoo</td>\n",
       "      <td>Biscoe</td>\n",
       "      <td>45.200001</td>\n",
       "      <td>14.800000</td>\n",
       "      <td>212.000000</td>\n",
       "      <td>5200.000000</td>\n",
       "      <td>Female</td>\n",
       "      <td>668.960022</td>\n",
       "      <td>3.054054</td>\n",
       "    </tr>\n",
       "    <tr>\n",
       "      <th>343</th>\n",
       "      <td>Gentoo</td>\n",
       "      <td>Biscoe</td>\n",
       "      <td>49.900002</td>\n",
       "      <td>16.100000</td>\n",
       "      <td>213.000000</td>\n",
       "      <td>5400.000000</td>\n",
       "      <td>Male</td>\n",
       "      <td>803.390015</td>\n",
       "      <td>3.099379</td>\n",
       "    </tr>\n",
       "  </tbody>\n",
       "</table>\n",
       "<p>344 rows × 9 columns</p>\n",
       "</div>"
      ],
      "text/plain": [
       "    species     island  bill_length_mm  bill_depth_mm  flipper_length_mm  \\\n",
       "0    Adelie  Torgersen       39.099998      18.700001         181.000000   \n",
       "1    Adelie  Torgersen       39.500000      17.400000         186.000000   \n",
       "2    Adelie  Torgersen       40.299999      18.000000         195.000000   \n",
       "3    Adelie  Torgersen       43.921928      17.151169         200.915207   \n",
       "4    Adelie  Torgersen       36.700001      19.299999         193.000000   \n",
       "..      ...        ...             ...            ...                ...   \n",
       "339  Gentoo     Biscoe       43.921928      17.151169         200.915207   \n",
       "340  Gentoo     Biscoe       46.799999      14.300000         215.000000   \n",
       "341  Gentoo     Biscoe       50.400002      15.700000         222.000000   \n",
       "342  Gentoo     Biscoe       45.200001      14.800000         212.000000   \n",
       "343  Gentoo     Biscoe       49.900002      16.100000         213.000000   \n",
       "\n",
       "     body_mass_g     sex   bill_size  bill_ratio  \n",
       "0    3750.000000    Male  731.169983    2.090909  \n",
       "1    3800.000000  Female  687.299988    2.270115  \n",
       "2    3250.000000  Female  725.399963    2.238889  \n",
       "3    4201.754395    Male  753.312439    2.560871  \n",
       "4    3450.000000  Female  708.309998    1.901554  \n",
       "..           ...     ...         ...         ...  \n",
       "339  4201.754395    Male  753.312439    2.560871  \n",
       "340  4850.000000  Female  669.239990    3.272727  \n",
       "341  5750.000000    Male  791.280029    3.210191  \n",
       "342  5200.000000  Female  668.960022    3.054054  \n",
       "343  5400.000000    Male  803.390015    3.099379  \n",
       "\n",
       "[344 rows x 9 columns]"
      ]
     },
     "execution_count": 267,
     "metadata": {},
     "output_type": "execute_result"
    }
   ],
   "source": [
    "df"
   ]
  },
  {
   "cell_type": "markdown",
   "metadata": {},
   "source": [
    "Let's look at the correlation to see whether the newly created features are better."
   ]
  },
  {
   "cell_type": "code",
   "execution_count": 268,
   "metadata": {},
   "outputs": [
    {
     "data": {
      "text/plain": [
       "<AxesSubplot:>"
      ]
     },
     "execution_count": 268,
     "metadata": {},
     "output_type": "execute_result"
    },
    {
     "data": {
      "image/png": "[encoded data removed]",
      "text/plain": [
       "<Figure size 640x480 with 1 Axes>"
      ]
     },
     "metadata": {},
     "output_type": "display_data"
    }
   ],
   "source": [
    "# This plots the correlation values for a specific column\n",
    "# which is usually what we are interested in\n",
    "df_num.corr()['body_mass_g'].sort_values().plot.barh()"
   ]
  },
  {
   "cell_type": "code",
   "execution_count": null,
   "metadata": {},
   "outputs": [],
   "source": []
  }
 ],
 "metadata": {
  "kernelspec": {
   "display_name": "Python 3 (ipykernel)",
   "language": "python",
   "name": "python3"
  },
  "language_info": {
   "codemirror_mode": {
    "name": "ipython",
    "version": 3
   },
   "file_extension": ".py",
   "mimetype": "text/x-python",
   "name": "python",
   "nbconvert_exporter": "python",
   "pygments_lexer": "ipython3",
   "version": "3.9.13"
  }
 },
 "nbformat": 4,
 "nbformat_minor": 2
}
